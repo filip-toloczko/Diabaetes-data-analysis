{
 "cells": [
  {
   "cell_type": "markdown",
   "metadata": {},
   "source": [
    "# **CS 418 Final Project Analysis Post Progress Report Team Rose Matcha**\n",
    "\n",
    "**Sherwin Tahernezhadi, Filip Toloczko, Kevin Jara, Brenda Leyva, Andy Wang**\n",
    "\n",
    "Note that many of the information contained here is in relation to the progress report. This updated analysis seeks to explore some of the new methods we are implementing since the progress report. \n"
   ]
  },
  {
   "cell_type": "markdown",
   "metadata": {},
   "source": [
    "### **Project Introduction**"
   ]
  },
  {
   "cell_type": "markdown",
   "metadata": {},
   "source": [
    "For this project, we are analyzing data relevant to predicting the obesity of individuals by analyzing various health and lifestyle factors. To accomplish this, we are using two datasets: Our first, and primary, dataset from the CDC consists of roughly 250,000 instances of a variety of health indicators such as gender, age, BMI, smoker status, etc. The main population for this dataset is individuals residing in the United States. As for our second dataset, we wanted to observe how the obesity prediction and the factors leading to its prediction may be similar or different for another population compared to the US. As such, we found a dataset consisting of roughly 2100 instances of a variety of health indicators for individuals residing in the Latin American countries of Mexico, Peru, and Colombia. In terms of our goals, we aim to answer the question of how accurately we can quantify the prediction of obesity in these two countries, which features/predictors are the most influential to predicting obesity in each dataset, and between the two datasets/populations what similarities and differences are there regarding the prediction of obesity and the most significant factors in terms of predicting obesity. "
   ]
  },
  {
   "cell_type": "markdown",
   "metadata": {},
   "source": [
    "### **Any Changes**"
   ]
  },
  {
   "cell_type": "markdown",
   "metadata": {},
   "source": [
    "Since our initial proposal, we have refined our project scope to focus on predicting obesity rather than both obesity and diabetes. This change was advised after discussing with our professor and determining that diabetes prediction would be challenging without labeled diabetes data in our secondary dataset (since the secondary dataset has no diabetes feature). In addition, we have integrated a secondary dataset containing information on obesity in Latin American individuals, which will allow us to observe the prediction of obesity across diverse demographics. "
   ]
  },
  {
   "cell_type": "markdown",
   "metadata": {},
   "source": [
    "### **Data Cleaning**\n",
    "\n",
    "For this step, there are two datasets that need to be cleaned. We will begin by cleaning the CDC health indicators dataset and then we will clean the dataset for the latin american individuals. "
   ]
  },
  {
   "cell_type": "markdown",
   "metadata": {},
   "source": [
    "##### **1. CDC dataset cleaning**\n",
    "\n",
    "As can be seen below, not too many steps need to be taken to clean the CDC data. There are no missing values in the dataset to address. Note that we do not have a feature for obesity yet with two levels (obese/non obese), so we will create that feature in this step using the fact that an obese individual is defined to have a BMI of at least 30. "
   ]
  },
  {
   "cell_type": "code",
   "execution_count": 1,
   "metadata": {},
   "outputs": [
    {
     "data": {
      "text/html": [
       "<div>\n",
       "<style scoped>\n",
       "    .dataframe tbody tr th:only-of-type {\n",
       "        vertical-align: middle;\n",
       "    }\n",
       "\n",
       "    .dataframe tbody tr th {\n",
       "        vertical-align: top;\n",
       "    }\n",
       "\n",
       "    .dataframe thead th {\n",
       "        text-align: right;\n",
       "    }\n",
       "</style>\n",
       "<table border=\"1\" class=\"dataframe\">\n",
       "  <thead>\n",
       "    <tr style=\"text-align: right;\">\n",
       "      <th></th>\n",
       "      <th>Diabetes_binary</th>\n",
       "      <th>HighBP</th>\n",
       "      <th>HighChol</th>\n",
       "      <th>CholCheck</th>\n",
       "      <th>BMI</th>\n",
       "      <th>Smoker</th>\n",
       "      <th>Stroke</th>\n",
       "      <th>HeartDiseaseorAttack</th>\n",
       "      <th>PhysActivity</th>\n",
       "      <th>Fruits</th>\n",
       "      <th>...</th>\n",
       "      <th>AnyHealthcare</th>\n",
       "      <th>NoDocbcCost</th>\n",
       "      <th>GenHlth</th>\n",
       "      <th>MentHlth</th>\n",
       "      <th>PhysHlth</th>\n",
       "      <th>DiffWalk</th>\n",
       "      <th>Sex</th>\n",
       "      <th>Age</th>\n",
       "      <th>Education</th>\n",
       "      <th>Income</th>\n",
       "    </tr>\n",
       "  </thead>\n",
       "  <tbody>\n",
       "    <tr>\n",
       "      <th>0</th>\n",
       "      <td>0.0</td>\n",
       "      <td>1.0</td>\n",
       "      <td>1.0</td>\n",
       "      <td>1.0</td>\n",
       "      <td>40.0</td>\n",
       "      <td>1.0</td>\n",
       "      <td>0.0</td>\n",
       "      <td>0.0</td>\n",
       "      <td>0.0</td>\n",
       "      <td>0.0</td>\n",
       "      <td>...</td>\n",
       "      <td>1.0</td>\n",
       "      <td>0.0</td>\n",
       "      <td>5.0</td>\n",
       "      <td>18.0</td>\n",
       "      <td>15.0</td>\n",
       "      <td>1.0</td>\n",
       "      <td>0.0</td>\n",
       "      <td>9.0</td>\n",
       "      <td>4.0</td>\n",
       "      <td>3.0</td>\n",
       "    </tr>\n",
       "    <tr>\n",
       "      <th>1</th>\n",
       "      <td>0.0</td>\n",
       "      <td>0.0</td>\n",
       "      <td>0.0</td>\n",
       "      <td>0.0</td>\n",
       "      <td>25.0</td>\n",
       "      <td>1.0</td>\n",
       "      <td>0.0</td>\n",
       "      <td>0.0</td>\n",
       "      <td>1.0</td>\n",
       "      <td>0.0</td>\n",
       "      <td>...</td>\n",
       "      <td>0.0</td>\n",
       "      <td>1.0</td>\n",
       "      <td>3.0</td>\n",
       "      <td>0.0</td>\n",
       "      <td>0.0</td>\n",
       "      <td>0.0</td>\n",
       "      <td>0.0</td>\n",
       "      <td>7.0</td>\n",
       "      <td>6.0</td>\n",
       "      <td>1.0</td>\n",
       "    </tr>\n",
       "    <tr>\n",
       "      <th>2</th>\n",
       "      <td>0.0</td>\n",
       "      <td>1.0</td>\n",
       "      <td>1.0</td>\n",
       "      <td>1.0</td>\n",
       "      <td>28.0</td>\n",
       "      <td>0.0</td>\n",
       "      <td>0.0</td>\n",
       "      <td>0.0</td>\n",
       "      <td>0.0</td>\n",
       "      <td>1.0</td>\n",
       "      <td>...</td>\n",
       "      <td>1.0</td>\n",
       "      <td>1.0</td>\n",
       "      <td>5.0</td>\n",
       "      <td>30.0</td>\n",
       "      <td>30.0</td>\n",
       "      <td>1.0</td>\n",
       "      <td>0.0</td>\n",
       "      <td>9.0</td>\n",
       "      <td>4.0</td>\n",
       "      <td>8.0</td>\n",
       "    </tr>\n",
       "    <tr>\n",
       "      <th>3</th>\n",
       "      <td>0.0</td>\n",
       "      <td>1.0</td>\n",
       "      <td>0.0</td>\n",
       "      <td>1.0</td>\n",
       "      <td>27.0</td>\n",
       "      <td>0.0</td>\n",
       "      <td>0.0</td>\n",
       "      <td>0.0</td>\n",
       "      <td>1.0</td>\n",
       "      <td>1.0</td>\n",
       "      <td>...</td>\n",
       "      <td>1.0</td>\n",
       "      <td>0.0</td>\n",
       "      <td>2.0</td>\n",
       "      <td>0.0</td>\n",
       "      <td>0.0</td>\n",
       "      <td>0.0</td>\n",
       "      <td>0.0</td>\n",
       "      <td>11.0</td>\n",
       "      <td>3.0</td>\n",
       "      <td>6.0</td>\n",
       "    </tr>\n",
       "    <tr>\n",
       "      <th>4</th>\n",
       "      <td>0.0</td>\n",
       "      <td>1.0</td>\n",
       "      <td>1.0</td>\n",
       "      <td>1.0</td>\n",
       "      <td>24.0</td>\n",
       "      <td>0.0</td>\n",
       "      <td>0.0</td>\n",
       "      <td>0.0</td>\n",
       "      <td>1.0</td>\n",
       "      <td>1.0</td>\n",
       "      <td>...</td>\n",
       "      <td>1.0</td>\n",
       "      <td>0.0</td>\n",
       "      <td>2.0</td>\n",
       "      <td>3.0</td>\n",
       "      <td>0.0</td>\n",
       "      <td>0.0</td>\n",
       "      <td>0.0</td>\n",
       "      <td>11.0</td>\n",
       "      <td>5.0</td>\n",
       "      <td>4.0</td>\n",
       "    </tr>\n",
       "  </tbody>\n",
       "</table>\n",
       "<p>5 rows × 22 columns</p>\n",
       "</div>"
      ],
      "text/plain": [
       "   Diabetes_binary  HighBP  HighChol  CholCheck   BMI  Smoker  Stroke  \\\n",
       "0              0.0     1.0       1.0        1.0  40.0     1.0     0.0   \n",
       "1              0.0     0.0       0.0        0.0  25.0     1.0     0.0   \n",
       "2              0.0     1.0       1.0        1.0  28.0     0.0     0.0   \n",
       "3              0.0     1.0       0.0        1.0  27.0     0.0     0.0   \n",
       "4              0.0     1.0       1.0        1.0  24.0     0.0     0.0   \n",
       "\n",
       "   HeartDiseaseorAttack  PhysActivity  Fruits  ...  AnyHealthcare  \\\n",
       "0                   0.0           0.0     0.0  ...            1.0   \n",
       "1                   0.0           1.0     0.0  ...            0.0   \n",
       "2                   0.0           0.0     1.0  ...            1.0   \n",
       "3                   0.0           1.0     1.0  ...            1.0   \n",
       "4                   0.0           1.0     1.0  ...            1.0   \n",
       "\n",
       "   NoDocbcCost  GenHlth  MentHlth  PhysHlth  DiffWalk  Sex   Age  Education  \\\n",
       "0          0.0      5.0      18.0      15.0       1.0  0.0   9.0        4.0   \n",
       "1          1.0      3.0       0.0       0.0       0.0  0.0   7.0        6.0   \n",
       "2          1.0      5.0      30.0      30.0       1.0  0.0   9.0        4.0   \n",
       "3          0.0      2.0       0.0       0.0       0.0  0.0  11.0        3.0   \n",
       "4          0.0      2.0       3.0       0.0       0.0  0.0  11.0        5.0   \n",
       "\n",
       "   Income  \n",
       "0     3.0  \n",
       "1     1.0  \n",
       "2     8.0  \n",
       "3     6.0  \n",
       "4     4.0  \n",
       "\n",
       "[5 rows x 22 columns]"
      ]
     },
     "metadata": {},
     "output_type": "display_data"
    },
    {
     "name": "stdout",
     "output_type": "stream",
     "text": [
      "(253680, 22)\n",
      "Diabetes_binary         float64\n",
      "HighBP                  float64\n",
      "HighChol                float64\n",
      "CholCheck               float64\n",
      "BMI                     float64\n",
      "Smoker                  float64\n",
      "Stroke                  float64\n",
      "HeartDiseaseorAttack    float64\n",
      "PhysActivity            float64\n",
      "Fruits                  float64\n",
      "Veggies                 float64\n",
      "HvyAlcoholConsump       float64\n",
      "AnyHealthcare           float64\n",
      "NoDocbcCost             float64\n",
      "GenHlth                 float64\n",
      "MentHlth                float64\n",
      "PhysHlth                float64\n",
      "DiffWalk                float64\n",
      "Sex                     float64\n",
      "Age                     float64\n",
      "Education               float64\n",
      "Income                  float64\n",
      "dtype: object\n",
      "Number of null values in the dataset: 0\n"
     ]
    },
    {
     "data": {
      "text/html": [
       "<div>\n",
       "<style scoped>\n",
       "    .dataframe tbody tr th:only-of-type {\n",
       "        vertical-align: middle;\n",
       "    }\n",
       "\n",
       "    .dataframe tbody tr th {\n",
       "        vertical-align: top;\n",
       "    }\n",
       "\n",
       "    .dataframe thead th {\n",
       "        text-align: right;\n",
       "    }\n",
       "</style>\n",
       "<table border=\"1\" class=\"dataframe\">\n",
       "  <thead>\n",
       "    <tr style=\"text-align: right;\">\n",
       "      <th></th>\n",
       "      <th>Diabetes_binary</th>\n",
       "      <th>HighBP</th>\n",
       "      <th>HighChol</th>\n",
       "      <th>CholCheck</th>\n",
       "      <th>BMI</th>\n",
       "      <th>Smoker</th>\n",
       "      <th>Stroke</th>\n",
       "      <th>HeartDiseaseorAttack</th>\n",
       "      <th>PhysActivity</th>\n",
       "      <th>Fruits</th>\n",
       "      <th>...</th>\n",
       "      <th>NoDocbcCost</th>\n",
       "      <th>GenHlth</th>\n",
       "      <th>MentHlth</th>\n",
       "      <th>PhysHlth</th>\n",
       "      <th>DiffWalk</th>\n",
       "      <th>Sex</th>\n",
       "      <th>Age</th>\n",
       "      <th>Education</th>\n",
       "      <th>Income</th>\n",
       "      <th>Obese</th>\n",
       "    </tr>\n",
       "  </thead>\n",
       "  <tbody>\n",
       "    <tr>\n",
       "      <th>0</th>\n",
       "      <td>0.0</td>\n",
       "      <td>1.0</td>\n",
       "      <td>1.0</td>\n",
       "      <td>1.0</td>\n",
       "      <td>40.0</td>\n",
       "      <td>1.0</td>\n",
       "      <td>0.0</td>\n",
       "      <td>0.0</td>\n",
       "      <td>0.0</td>\n",
       "      <td>0.0</td>\n",
       "      <td>...</td>\n",
       "      <td>0.0</td>\n",
       "      <td>5.0</td>\n",
       "      <td>18.0</td>\n",
       "      <td>15.0</td>\n",
       "      <td>1.0</td>\n",
       "      <td>0.0</td>\n",
       "      <td>9.0</td>\n",
       "      <td>4.0</td>\n",
       "      <td>3.0</td>\n",
       "      <td>1</td>\n",
       "    </tr>\n",
       "    <tr>\n",
       "      <th>1</th>\n",
       "      <td>0.0</td>\n",
       "      <td>0.0</td>\n",
       "      <td>0.0</td>\n",
       "      <td>0.0</td>\n",
       "      <td>25.0</td>\n",
       "      <td>1.0</td>\n",
       "      <td>0.0</td>\n",
       "      <td>0.0</td>\n",
       "      <td>1.0</td>\n",
       "      <td>0.0</td>\n",
       "      <td>...</td>\n",
       "      <td>1.0</td>\n",
       "      <td>3.0</td>\n",
       "      <td>0.0</td>\n",
       "      <td>0.0</td>\n",
       "      <td>0.0</td>\n",
       "      <td>0.0</td>\n",
       "      <td>7.0</td>\n",
       "      <td>6.0</td>\n",
       "      <td>1.0</td>\n",
       "      <td>0</td>\n",
       "    </tr>\n",
       "    <tr>\n",
       "      <th>2</th>\n",
       "      <td>0.0</td>\n",
       "      <td>1.0</td>\n",
       "      <td>1.0</td>\n",
       "      <td>1.0</td>\n",
       "      <td>28.0</td>\n",
       "      <td>0.0</td>\n",
       "      <td>0.0</td>\n",
       "      <td>0.0</td>\n",
       "      <td>0.0</td>\n",
       "      <td>1.0</td>\n",
       "      <td>...</td>\n",
       "      <td>1.0</td>\n",
       "      <td>5.0</td>\n",
       "      <td>30.0</td>\n",
       "      <td>30.0</td>\n",
       "      <td>1.0</td>\n",
       "      <td>0.0</td>\n",
       "      <td>9.0</td>\n",
       "      <td>4.0</td>\n",
       "      <td>8.0</td>\n",
       "      <td>0</td>\n",
       "    </tr>\n",
       "    <tr>\n",
       "      <th>3</th>\n",
       "      <td>0.0</td>\n",
       "      <td>1.0</td>\n",
       "      <td>0.0</td>\n",
       "      <td>1.0</td>\n",
       "      <td>27.0</td>\n",
       "      <td>0.0</td>\n",
       "      <td>0.0</td>\n",
       "      <td>0.0</td>\n",
       "      <td>1.0</td>\n",
       "      <td>1.0</td>\n",
       "      <td>...</td>\n",
       "      <td>0.0</td>\n",
       "      <td>2.0</td>\n",
       "      <td>0.0</td>\n",
       "      <td>0.0</td>\n",
       "      <td>0.0</td>\n",
       "      <td>0.0</td>\n",
       "      <td>11.0</td>\n",
       "      <td>3.0</td>\n",
       "      <td>6.0</td>\n",
       "      <td>0</td>\n",
       "    </tr>\n",
       "    <tr>\n",
       "      <th>4</th>\n",
       "      <td>0.0</td>\n",
       "      <td>1.0</td>\n",
       "      <td>1.0</td>\n",
       "      <td>1.0</td>\n",
       "      <td>24.0</td>\n",
       "      <td>0.0</td>\n",
       "      <td>0.0</td>\n",
       "      <td>0.0</td>\n",
       "      <td>1.0</td>\n",
       "      <td>1.0</td>\n",
       "      <td>...</td>\n",
       "      <td>0.0</td>\n",
       "      <td>2.0</td>\n",
       "      <td>3.0</td>\n",
       "      <td>0.0</td>\n",
       "      <td>0.0</td>\n",
       "      <td>0.0</td>\n",
       "      <td>11.0</td>\n",
       "      <td>5.0</td>\n",
       "      <td>4.0</td>\n",
       "      <td>0</td>\n",
       "    </tr>\n",
       "  </tbody>\n",
       "</table>\n",
       "<p>5 rows × 23 columns</p>\n",
       "</div>"
      ],
      "text/plain": [
       "   Diabetes_binary  HighBP  HighChol  CholCheck   BMI  Smoker  Stroke  \\\n",
       "0              0.0     1.0       1.0        1.0  40.0     1.0     0.0   \n",
       "1              0.0     0.0       0.0        0.0  25.0     1.0     0.0   \n",
       "2              0.0     1.0       1.0        1.0  28.0     0.0     0.0   \n",
       "3              0.0     1.0       0.0        1.0  27.0     0.0     0.0   \n",
       "4              0.0     1.0       1.0        1.0  24.0     0.0     0.0   \n",
       "\n",
       "   HeartDiseaseorAttack  PhysActivity  Fruits  ...  NoDocbcCost  GenHlth  \\\n",
       "0                   0.0           0.0     0.0  ...          0.0      5.0   \n",
       "1                   0.0           1.0     0.0  ...          1.0      3.0   \n",
       "2                   0.0           0.0     1.0  ...          1.0      5.0   \n",
       "3                   0.0           1.0     1.0  ...          0.0      2.0   \n",
       "4                   0.0           1.0     1.0  ...          0.0      2.0   \n",
       "\n",
       "   MentHlth  PhysHlth  DiffWalk  Sex   Age  Education  Income  Obese  \n",
       "0      18.0      15.0       1.0  0.0   9.0        4.0     3.0      1  \n",
       "1       0.0       0.0       0.0  0.0   7.0        6.0     1.0      0  \n",
       "2      30.0      30.0       1.0  0.0   9.0        4.0     8.0      0  \n",
       "3       0.0       0.0       0.0  0.0  11.0        3.0     6.0      0  \n",
       "4       3.0       0.0       0.0  0.0  11.0        5.0     4.0      0  \n",
       "\n",
       "[5 rows x 23 columns]"
      ]
     },
     "metadata": {},
     "output_type": "display_data"
    }
   ],
   "source": [
    "import pandas as pd\n",
    "import numpy as np\n",
    "from IPython.display import display\n",
    "\n",
    "df = pd.read_csv('diabetes_binary_health_indicators_BRFSS2015.csv')\n",
    "display(df.head())\n",
    "print(df.shape)\n",
    "print(df.dtypes)\n",
    "print(f'Number of null values in the dataset: {df.isnull().sum().sum()}')\n",
    "\n",
    "df['Obese'] = np.where(df['BMI'] >= 30, 1, 0)\n",
    "display(df.head())"
   ]
  },
  {
   "cell_type": "markdown",
   "metadata": {},
   "source": [
    "##### **2. Latin American Individuals Data Cleaning**\n",
    "\n",
    "For this dataset, there is more cleaning that needs to be done relative to the CDC dataset. For one, some columns in this dataset, like FAVC or FCVC, are quite ambiguous in terms of what they represent, so we will rename these columns to make their meaning more evident. Also, many of our feature variables have values with categorical labels, like \"Sometimes\", \"Always\", or \"Yes\"/\"No\". It is critical that we encode these categorical features with numeric integer values to indicate their levels to get the most optimal results for when we fit machine learning models to our dataset. Similarly to the CDC dataset, we also create the obesity feature from BMI, and we create BMI from the definition that BMI is the weight in kilograms divided by the square of the height in meters. We have features for both weight (kg) and height (meters), so we will be able to create a BMI feature from this. "
   ]
  },
  {
   "cell_type": "code",
   "execution_count": 2,
   "metadata": {},
   "outputs": [
    {
     "data": {
      "text/html": [
       "<div>\n",
       "<style scoped>\n",
       "    .dataframe tbody tr th:only-of-type {\n",
       "        vertical-align: middle;\n",
       "    }\n",
       "\n",
       "    .dataframe tbody tr th {\n",
       "        vertical-align: top;\n",
       "    }\n",
       "\n",
       "    .dataframe thead th {\n",
       "        text-align: right;\n",
       "    }\n",
       "</style>\n",
       "<table border=\"1\" class=\"dataframe\">\n",
       "  <thead>\n",
       "    <tr style=\"text-align: right;\">\n",
       "      <th></th>\n",
       "      <th>Gender</th>\n",
       "      <th>Age</th>\n",
       "      <th>Height</th>\n",
       "      <th>Weight</th>\n",
       "      <th>family_history_with_overweight</th>\n",
       "      <th>FAVC</th>\n",
       "      <th>FCVC</th>\n",
       "      <th>NCP</th>\n",
       "      <th>CAEC</th>\n",
       "      <th>SMOKE</th>\n",
       "      <th>CH2O</th>\n",
       "      <th>SCC</th>\n",
       "      <th>FAF</th>\n",
       "      <th>TUE</th>\n",
       "      <th>CALC</th>\n",
       "      <th>MTRANS</th>\n",
       "      <th>NObeyesdad</th>\n",
       "    </tr>\n",
       "  </thead>\n",
       "  <tbody>\n",
       "    <tr>\n",
       "      <th>0</th>\n",
       "      <td>Female</td>\n",
       "      <td>21.0</td>\n",
       "      <td>1.62</td>\n",
       "      <td>64.0</td>\n",
       "      <td>yes</td>\n",
       "      <td>no</td>\n",
       "      <td>2.0</td>\n",
       "      <td>3.0</td>\n",
       "      <td>Sometimes</td>\n",
       "      <td>no</td>\n",
       "      <td>2.0</td>\n",
       "      <td>no</td>\n",
       "      <td>0.0</td>\n",
       "      <td>1.0</td>\n",
       "      <td>no</td>\n",
       "      <td>Public_Transportation</td>\n",
       "      <td>Normal_Weight</td>\n",
       "    </tr>\n",
       "    <tr>\n",
       "      <th>1</th>\n",
       "      <td>Female</td>\n",
       "      <td>21.0</td>\n",
       "      <td>1.52</td>\n",
       "      <td>56.0</td>\n",
       "      <td>yes</td>\n",
       "      <td>no</td>\n",
       "      <td>3.0</td>\n",
       "      <td>3.0</td>\n",
       "      <td>Sometimes</td>\n",
       "      <td>yes</td>\n",
       "      <td>3.0</td>\n",
       "      <td>yes</td>\n",
       "      <td>3.0</td>\n",
       "      <td>0.0</td>\n",
       "      <td>Sometimes</td>\n",
       "      <td>Public_Transportation</td>\n",
       "      <td>Normal_Weight</td>\n",
       "    </tr>\n",
       "    <tr>\n",
       "      <th>2</th>\n",
       "      <td>Male</td>\n",
       "      <td>23.0</td>\n",
       "      <td>1.80</td>\n",
       "      <td>77.0</td>\n",
       "      <td>yes</td>\n",
       "      <td>no</td>\n",
       "      <td>2.0</td>\n",
       "      <td>3.0</td>\n",
       "      <td>Sometimes</td>\n",
       "      <td>no</td>\n",
       "      <td>2.0</td>\n",
       "      <td>no</td>\n",
       "      <td>2.0</td>\n",
       "      <td>1.0</td>\n",
       "      <td>Frequently</td>\n",
       "      <td>Public_Transportation</td>\n",
       "      <td>Normal_Weight</td>\n",
       "    </tr>\n",
       "    <tr>\n",
       "      <th>3</th>\n",
       "      <td>Male</td>\n",
       "      <td>27.0</td>\n",
       "      <td>1.80</td>\n",
       "      <td>87.0</td>\n",
       "      <td>no</td>\n",
       "      <td>no</td>\n",
       "      <td>3.0</td>\n",
       "      <td>3.0</td>\n",
       "      <td>Sometimes</td>\n",
       "      <td>no</td>\n",
       "      <td>2.0</td>\n",
       "      <td>no</td>\n",
       "      <td>2.0</td>\n",
       "      <td>0.0</td>\n",
       "      <td>Frequently</td>\n",
       "      <td>Walking</td>\n",
       "      <td>Overweight_Level_I</td>\n",
       "    </tr>\n",
       "    <tr>\n",
       "      <th>4</th>\n",
       "      <td>Male</td>\n",
       "      <td>22.0</td>\n",
       "      <td>1.78</td>\n",
       "      <td>89.8</td>\n",
       "      <td>no</td>\n",
       "      <td>no</td>\n",
       "      <td>2.0</td>\n",
       "      <td>1.0</td>\n",
       "      <td>Sometimes</td>\n",
       "      <td>no</td>\n",
       "      <td>2.0</td>\n",
       "      <td>no</td>\n",
       "      <td>0.0</td>\n",
       "      <td>0.0</td>\n",
       "      <td>Sometimes</td>\n",
       "      <td>Public_Transportation</td>\n",
       "      <td>Overweight_Level_II</td>\n",
       "    </tr>\n",
       "  </tbody>\n",
       "</table>\n",
       "</div>"
      ],
      "text/plain": [
       "   Gender   Age  Height  Weight family_history_with_overweight FAVC  FCVC  \\\n",
       "0  Female  21.0    1.62    64.0                            yes   no   2.0   \n",
       "1  Female  21.0    1.52    56.0                            yes   no   3.0   \n",
       "2    Male  23.0    1.80    77.0                            yes   no   2.0   \n",
       "3    Male  27.0    1.80    87.0                             no   no   3.0   \n",
       "4    Male  22.0    1.78    89.8                             no   no   2.0   \n",
       "\n",
       "   NCP       CAEC SMOKE  CH2O  SCC  FAF  TUE        CALC  \\\n",
       "0  3.0  Sometimes    no   2.0   no  0.0  1.0          no   \n",
       "1  3.0  Sometimes   yes   3.0  yes  3.0  0.0   Sometimes   \n",
       "2  3.0  Sometimes    no   2.0   no  2.0  1.0  Frequently   \n",
       "3  3.0  Sometimes    no   2.0   no  2.0  0.0  Frequently   \n",
       "4  1.0  Sometimes    no   2.0   no  0.0  0.0   Sometimes   \n",
       "\n",
       "                  MTRANS           NObeyesdad  \n",
       "0  Public_Transportation        Normal_Weight  \n",
       "1  Public_Transportation        Normal_Weight  \n",
       "2  Public_Transportation        Normal_Weight  \n",
       "3                Walking   Overweight_Level_I  \n",
       "4  Public_Transportation  Overweight_Level_II  "
      ]
     },
     "metadata": {},
     "output_type": "display_data"
    },
    {
     "name": "stdout",
     "output_type": "stream",
     "text": [
      "Gender                             object\n",
      "Age                               float64\n",
      "Height                            float64\n",
      "Weight                            float64\n",
      "family_history_with_overweight     object\n",
      "FAVC                               object\n",
      "FCVC                              float64\n",
      "NCP                               float64\n",
      "CAEC                               object\n",
      "SMOKE                              object\n",
      "CH2O                              float64\n",
      "SCC                                object\n",
      "FAF                               float64\n",
      "TUE                               float64\n",
      "CALC                               object\n",
      "MTRANS                             object\n",
      "NObeyesdad                         object\n",
      "dtype: object\n"
     ]
    },
    {
     "name": "stderr",
     "output_type": "stream",
     "text": [
      "C:\\Users\\taher\\AppData\\Local\\Temp\\ipykernel_56744\\827553600.py:12: FutureWarning: Downcasting behavior in `replace` is deprecated and will be removed in a future version. To retain the old behavior, explicitly call `result.infer_objects(copy=False)`. To opt-in to the future behavior, set `pd.set_option('future.no_silent_downcasting', True)`\n",
      "  df_latin['Gender'] = df_latin['Gender'].replace({'Female' : 0, 'Male' : 1})\n",
      "C:\\Users\\taher\\AppData\\Local\\Temp\\ipykernel_56744\\827553600.py:13: FutureWarning: Downcasting behavior in `replace` is deprecated and will be removed in a future version. To retain the old behavior, explicitly call `result.infer_objects(copy=False)`. To opt-in to the future behavior, set `pd.set_option('future.no_silent_downcasting', True)`\n",
      "  df_latin['family_history_with_overweight'] = df_latin['family_history_with_overweight'].replace({'yes' : 1, 'no' : 0}).astype(int)\n",
      "C:\\Users\\taher\\AppData\\Local\\Temp\\ipykernel_56744\\827553600.py:14: FutureWarning: Downcasting behavior in `replace` is deprecated and will be removed in a future version. To retain the old behavior, explicitly call `result.infer_objects(copy=False)`. To opt-in to the future behavior, set `pd.set_option('future.no_silent_downcasting', True)`\n",
      "  df_latin['eat_high_caloric'] = df_latin['eat_high_caloric'].replace({'yes' : 1, 'no' : 0}).astype(int)\n",
      "C:\\Users\\taher\\AppData\\Local\\Temp\\ipykernel_56744\\827553600.py:15: FutureWarning: Downcasting behavior in `replace` is deprecated and will be removed in a future version. To retain the old behavior, explicitly call `result.infer_objects(copy=False)`. To opt-in to the future behavior, set `pd.set_option('future.no_silent_downcasting', True)`\n",
      "  df_latin['SMOKE'] = df_latin['SMOKE'].replace({'yes' : 1, 'no' : 0}).astype(int)\n",
      "C:\\Users\\taher\\AppData\\Local\\Temp\\ipykernel_56744\\827553600.py:16: FutureWarning: Downcasting behavior in `replace` is deprecated and will be removed in a future version. To retain the old behavior, explicitly call `result.infer_objects(copy=False)`. To opt-in to the future behavior, set `pd.set_option('future.no_silent_downcasting', True)`\n",
      "  df_latin['calories_per_day'] = df_latin['calories_per_day'].replace({'yes' : 1, 'no' : 0}).astype(int)\n",
      "C:\\Users\\taher\\AppData\\Local\\Temp\\ipykernel_56744\\827553600.py:17: FutureWarning: Downcasting behavior in `replace` is deprecated and will be removed in a future version. To retain the old behavior, explicitly call `result.infer_objects(copy=False)`. To opt-in to the future behavior, set `pd.set_option('future.no_silent_downcasting', True)`\n",
      "  df_latin['food_between_meals'] = df_latin['food_between_meals'].replace({'no' : 0, 'Sometimes' : 1, 'Frequently' : 2, 'Always' : 3}).astype(int)\n",
      "C:\\Users\\taher\\AppData\\Local\\Temp\\ipykernel_56744\\827553600.py:18: FutureWarning: Downcasting behavior in `replace` is deprecated and will be removed in a future version. To retain the old behavior, explicitly call `result.infer_objects(copy=False)`. To opt-in to the future behavior, set `pd.set_option('future.no_silent_downcasting', True)`\n",
      "  df_latin['alcohol_consumption'] = df_latin['alcohol_consumption'].replace({'no' : 0, 'Sometimes' : 1, 'Frequently' : 2, 'Always' : 3}).astype(int)\n",
      "C:\\Users\\taher\\AppData\\Local\\Temp\\ipykernel_56744\\827553600.py:19: FutureWarning: Downcasting behavior in `replace` is deprecated and will be removed in a future version. To retain the old behavior, explicitly call `result.infer_objects(copy=False)`. To opt-in to the future behavior, set `pd.set_option('future.no_silent_downcasting', True)`\n",
      "  df_latin['transportation_method'] = df_latin['transportation_method'].replace({'Bike' : 1, 'Motorbike' : 2, 'Walking' : 3, 'Automobile' : 4, 'Public_Transportation' : 5})\n"
     ]
    },
    {
     "data": {
      "text/html": [
       "<div>\n",
       "<style scoped>\n",
       "    .dataframe tbody tr th:only-of-type {\n",
       "        vertical-align: middle;\n",
       "    }\n",
       "\n",
       "    .dataframe tbody tr th {\n",
       "        vertical-align: top;\n",
       "    }\n",
       "\n",
       "    .dataframe thead th {\n",
       "        text-align: right;\n",
       "    }\n",
       "</style>\n",
       "<table border=\"1\" class=\"dataframe\">\n",
       "  <thead>\n",
       "    <tr style=\"text-align: right;\">\n",
       "      <th></th>\n",
       "      <th>Gender</th>\n",
       "      <th>Age</th>\n",
       "      <th>Height</th>\n",
       "      <th>Weight</th>\n",
       "      <th>family_history_with_overweight</th>\n",
       "      <th>eat_high_caloric</th>\n",
       "      <th>eat_vegetables</th>\n",
       "      <th>num_meals_per_day</th>\n",
       "      <th>food_between_meals</th>\n",
       "      <th>SMOKE</th>\n",
       "      <th>water_per_day</th>\n",
       "      <th>calories_per_day</th>\n",
       "      <th>physical_activity</th>\n",
       "      <th>technology_usage</th>\n",
       "      <th>alcohol_consumption</th>\n",
       "      <th>transportation_method</th>\n",
       "      <th>BMI</th>\n",
       "      <th>Obese</th>\n",
       "    </tr>\n",
       "  </thead>\n",
       "  <tbody>\n",
       "    <tr>\n",
       "      <th>0</th>\n",
       "      <td>0</td>\n",
       "      <td>21.0</td>\n",
       "      <td>1.62</td>\n",
       "      <td>64.0</td>\n",
       "      <td>1</td>\n",
       "      <td>0</td>\n",
       "      <td>2.0</td>\n",
       "      <td>3.0</td>\n",
       "      <td>1</td>\n",
       "      <td>0</td>\n",
       "      <td>2.0</td>\n",
       "      <td>0</td>\n",
       "      <td>0.0</td>\n",
       "      <td>1.0</td>\n",
       "      <td>0</td>\n",
       "      <td>5</td>\n",
       "      <td>24.4</td>\n",
       "      <td>0</td>\n",
       "    </tr>\n",
       "    <tr>\n",
       "      <th>1</th>\n",
       "      <td>0</td>\n",
       "      <td>21.0</td>\n",
       "      <td>1.52</td>\n",
       "      <td>56.0</td>\n",
       "      <td>1</td>\n",
       "      <td>0</td>\n",
       "      <td>3.0</td>\n",
       "      <td>3.0</td>\n",
       "      <td>1</td>\n",
       "      <td>1</td>\n",
       "      <td>3.0</td>\n",
       "      <td>1</td>\n",
       "      <td>3.0</td>\n",
       "      <td>0.0</td>\n",
       "      <td>1</td>\n",
       "      <td>5</td>\n",
       "      <td>24.2</td>\n",
       "      <td>0</td>\n",
       "    </tr>\n",
       "    <tr>\n",
       "      <th>2</th>\n",
       "      <td>1</td>\n",
       "      <td>23.0</td>\n",
       "      <td>1.80</td>\n",
       "      <td>77.0</td>\n",
       "      <td>1</td>\n",
       "      <td>0</td>\n",
       "      <td>2.0</td>\n",
       "      <td>3.0</td>\n",
       "      <td>1</td>\n",
       "      <td>0</td>\n",
       "      <td>2.0</td>\n",
       "      <td>0</td>\n",
       "      <td>2.0</td>\n",
       "      <td>1.0</td>\n",
       "      <td>2</td>\n",
       "      <td>5</td>\n",
       "      <td>23.8</td>\n",
       "      <td>0</td>\n",
       "    </tr>\n",
       "    <tr>\n",
       "      <th>3</th>\n",
       "      <td>1</td>\n",
       "      <td>27.0</td>\n",
       "      <td>1.80</td>\n",
       "      <td>87.0</td>\n",
       "      <td>0</td>\n",
       "      <td>0</td>\n",
       "      <td>3.0</td>\n",
       "      <td>3.0</td>\n",
       "      <td>1</td>\n",
       "      <td>0</td>\n",
       "      <td>2.0</td>\n",
       "      <td>0</td>\n",
       "      <td>2.0</td>\n",
       "      <td>0.0</td>\n",
       "      <td>2</td>\n",
       "      <td>3</td>\n",
       "      <td>26.9</td>\n",
       "      <td>0</td>\n",
       "    </tr>\n",
       "    <tr>\n",
       "      <th>4</th>\n",
       "      <td>1</td>\n",
       "      <td>22.0</td>\n",
       "      <td>1.78</td>\n",
       "      <td>89.8</td>\n",
       "      <td>0</td>\n",
       "      <td>0</td>\n",
       "      <td>2.0</td>\n",
       "      <td>1.0</td>\n",
       "      <td>1</td>\n",
       "      <td>0</td>\n",
       "      <td>2.0</td>\n",
       "      <td>0</td>\n",
       "      <td>0.0</td>\n",
       "      <td>0.0</td>\n",
       "      <td>1</td>\n",
       "      <td>5</td>\n",
       "      <td>28.3</td>\n",
       "      <td>0</td>\n",
       "    </tr>\n",
       "  </tbody>\n",
       "</table>\n",
       "</div>"
      ],
      "text/plain": [
       "   Gender   Age  Height  Weight  family_history_with_overweight  \\\n",
       "0       0  21.0    1.62    64.0                               1   \n",
       "1       0  21.0    1.52    56.0                               1   \n",
       "2       1  23.0    1.80    77.0                               1   \n",
       "3       1  27.0    1.80    87.0                               0   \n",
       "4       1  22.0    1.78    89.8                               0   \n",
       "\n",
       "   eat_high_caloric  eat_vegetables  num_meals_per_day  food_between_meals  \\\n",
       "0                 0             2.0                3.0                   1   \n",
       "1                 0             3.0                3.0                   1   \n",
       "2                 0             2.0                3.0                   1   \n",
       "3                 0             3.0                3.0                   1   \n",
       "4                 0             2.0                1.0                   1   \n",
       "\n",
       "   SMOKE  water_per_day  calories_per_day  physical_activity  \\\n",
       "0      0            2.0                 0                0.0   \n",
       "1      1            3.0                 1                3.0   \n",
       "2      0            2.0                 0                2.0   \n",
       "3      0            2.0                 0                2.0   \n",
       "4      0            2.0                 0                0.0   \n",
       "\n",
       "   technology_usage  alcohol_consumption  transportation_method   BMI  Obese  \n",
       "0               1.0                    0                      5  24.4      0  \n",
       "1               0.0                    1                      5  24.2      0  \n",
       "2               1.0                    2                      5  23.8      0  \n",
       "3               0.0                    2                      3  26.9      0  \n",
       "4               0.0                    1                      5  28.3      0  "
      ]
     },
     "metadata": {},
     "output_type": "display_data"
    },
    {
     "name": "stdout",
     "output_type": "stream",
     "text": [
      "Diabetes_binary         float64\n",
      "HighBP                  float64\n",
      "HighChol                float64\n",
      "CholCheck               float64\n",
      "BMI                     float64\n",
      "Smoker                  float64\n",
      "Stroke                  float64\n",
      "HeartDiseaseorAttack    float64\n",
      "PhysActivity            float64\n",
      "Fruits                  float64\n",
      "Veggies                 float64\n",
      "HvyAlcoholConsump       float64\n",
      "AnyHealthcare           float64\n",
      "NoDocbcCost             float64\n",
      "GenHlth                 float64\n",
      "MentHlth                float64\n",
      "PhysHlth                float64\n",
      "DiffWalk                float64\n",
      "Sex                     float64\n",
      "Age                     float64\n",
      "Education               float64\n",
      "Income                  float64\n",
      "Obese                     int64\n",
      "dtype: object\n",
      "(253680, 23)\n"
     ]
    }
   ],
   "source": [
    "df_latin = pd.read_csv('latin_america_obesity.csv')\n",
    "display(df_latin.head())\n",
    "print(df_latin.dtypes)\n",
    "\n",
    "# Many of the columns in this dataset do not have very meaningful column names, so we are renaming them\n",
    "df_latin.rename(columns = {'FAVC' : 'eat_high_caloric', 'FCVC' : 'eat_vegetables', 'NCP' : 'num_meals_per_day', 'CAEC' : 'food_between_meals', 'CH2O' : 'water_per_day', 'FAF' : 'physical_activity', \n",
    "                           'TUE' : 'technology_usage', 'CALC' : 'alcohol_consumption', 'MTRANS' : 'transportation_method', 'SCC' : 'calories_per_day'}, inplace = True)\n",
    "df_latin.head()\n",
    "\n",
    "\n",
    "# Here, we encode the categorical features with numeric integer values to indicate their levels.\n",
    "df_latin['Gender'] = df_latin['Gender'].replace({'Female' : 0, 'Male' : 1})\n",
    "df_latin['family_history_with_overweight'] = df_latin['family_history_with_overweight'].replace({'yes' : 1, 'no' : 0}).astype(int)\n",
    "df_latin['eat_high_caloric'] = df_latin['eat_high_caloric'].replace({'yes' : 1, 'no' : 0}).astype(int)\n",
    "df_latin['SMOKE'] = df_latin['SMOKE'].replace({'yes' : 1, 'no' : 0}).astype(int)\n",
    "df_latin['calories_per_day'] = df_latin['calories_per_day'].replace({'yes' : 1, 'no' : 0}).astype(int)\n",
    "df_latin['food_between_meals'] = df_latin['food_between_meals'].replace({'no' : 0, 'Sometimes' : 1, 'Frequently' : 2, 'Always' : 3}).astype(int)\n",
    "df_latin['alcohol_consumption'] = df_latin['alcohol_consumption'].replace({'no' : 0, 'Sometimes' : 1, 'Frequently' : 2, 'Always' : 3}).astype(int)\n",
    "df_latin['transportation_method'] = df_latin['transportation_method'].replace({'Bike' : 1, 'Motorbike' : 2, 'Walking' : 3, 'Automobile' : 4, 'Public_Transportation' : 5})\n",
    "\n",
    "\n",
    "'''For this dataset, we do not have features for BMI or Obesity. We will need to create them manually, \n",
    "   so create BMI from its definition of weight/(height^2) and create Obese feature from the definition that an Obese individual has a BMI of at least 30'''\n",
    "df_latin['BMI'] = round(df_latin['Weight'] / (df_latin['Height'] ** 2), 1)\n",
    "df_latin['Obese'] = np.where(df_latin['BMI'] >= 30, 1, 0)\n",
    "\n",
    "'''remove the previous obesity column since we create the binary obesity column based off the value of BMI. \n",
    "   This is to ensure consistency in how we determine the obesity feature between the two datasets.'''\n",
    "df_latin = df_latin.drop('NObeyesdad', axis = 1) \n",
    "display(df_latin.head())\n",
    "print(df.dtypes)\n",
    "print(df.shape)"
   ]
  },
  {
   "cell_type": "markdown",
   "metadata": {},
   "source": [
    "### **Exploratory Data Analysis**\n",
    "\n",
    "We perform EDA on both datasets. "
   ]
  },
  {
   "cell_type": "markdown",
   "metadata": {},
   "source": [
    "##### **1. CDC dataset EDA**"
   ]
  },
  {
   "cell_type": "code",
   "execution_count": 3,
   "metadata": {},
   "outputs": [
    {
     "data": {
      "text/html": [
       "<div>\n",
       "<style scoped>\n",
       "    .dataframe tbody tr th:only-of-type {\n",
       "        vertical-align: middle;\n",
       "    }\n",
       "\n",
       "    .dataframe tbody tr th {\n",
       "        vertical-align: top;\n",
       "    }\n",
       "\n",
       "    .dataframe thead th {\n",
       "        text-align: right;\n",
       "    }\n",
       "</style>\n",
       "<table border=\"1\" class=\"dataframe\">\n",
       "  <thead>\n",
       "    <tr style=\"text-align: right;\">\n",
       "      <th></th>\n",
       "      <th>Diabetes_binary</th>\n",
       "      <th>HighBP</th>\n",
       "      <th>HighChol</th>\n",
       "      <th>CholCheck</th>\n",
       "      <th>BMI</th>\n",
       "      <th>Smoker</th>\n",
       "      <th>Stroke</th>\n",
       "      <th>HeartDiseaseorAttack</th>\n",
       "      <th>PhysActivity</th>\n",
       "      <th>Fruits</th>\n",
       "      <th>...</th>\n",
       "      <th>NoDocbcCost</th>\n",
       "      <th>GenHlth</th>\n",
       "      <th>MentHlth</th>\n",
       "      <th>PhysHlth</th>\n",
       "      <th>DiffWalk</th>\n",
       "      <th>Sex</th>\n",
       "      <th>Age</th>\n",
       "      <th>Education</th>\n",
       "      <th>Income</th>\n",
       "      <th>Obese</th>\n",
       "    </tr>\n",
       "  </thead>\n",
       "  <tbody>\n",
       "    <tr>\n",
       "      <th>count</th>\n",
       "      <td>253680.000000</td>\n",
       "      <td>253680.000000</td>\n",
       "      <td>253680.000000</td>\n",
       "      <td>253680.000000</td>\n",
       "      <td>253680.000000</td>\n",
       "      <td>253680.000000</td>\n",
       "      <td>253680.000000</td>\n",
       "      <td>253680.000000</td>\n",
       "      <td>253680.000000</td>\n",
       "      <td>253680.000000</td>\n",
       "      <td>...</td>\n",
       "      <td>253680.000000</td>\n",
       "      <td>253680.000000</td>\n",
       "      <td>253680.000000</td>\n",
       "      <td>253680.000000</td>\n",
       "      <td>253680.000000</td>\n",
       "      <td>253680.000000</td>\n",
       "      <td>253680.000000</td>\n",
       "      <td>253680.000000</td>\n",
       "      <td>253680.000000</td>\n",
       "      <td>253680.000000</td>\n",
       "    </tr>\n",
       "    <tr>\n",
       "      <th>mean</th>\n",
       "      <td>0.139333</td>\n",
       "      <td>0.429001</td>\n",
       "      <td>0.424121</td>\n",
       "      <td>0.962670</td>\n",
       "      <td>28.382364</td>\n",
       "      <td>0.443169</td>\n",
       "      <td>0.040571</td>\n",
       "      <td>0.094186</td>\n",
       "      <td>0.756544</td>\n",
       "      <td>0.634256</td>\n",
       "      <td>...</td>\n",
       "      <td>0.084177</td>\n",
       "      <td>2.511392</td>\n",
       "      <td>3.184772</td>\n",
       "      <td>4.242081</td>\n",
       "      <td>0.168224</td>\n",
       "      <td>0.440342</td>\n",
       "      <td>8.032119</td>\n",
       "      <td>5.050434</td>\n",
       "      <td>6.053875</td>\n",
       "      <td>0.346306</td>\n",
       "    </tr>\n",
       "    <tr>\n",
       "      <th>std</th>\n",
       "      <td>0.346294</td>\n",
       "      <td>0.494934</td>\n",
       "      <td>0.494210</td>\n",
       "      <td>0.189571</td>\n",
       "      <td>6.608694</td>\n",
       "      <td>0.496761</td>\n",
       "      <td>0.197294</td>\n",
       "      <td>0.292087</td>\n",
       "      <td>0.429169</td>\n",
       "      <td>0.481639</td>\n",
       "      <td>...</td>\n",
       "      <td>0.277654</td>\n",
       "      <td>1.068477</td>\n",
       "      <td>7.412847</td>\n",
       "      <td>8.717951</td>\n",
       "      <td>0.374066</td>\n",
       "      <td>0.496429</td>\n",
       "      <td>3.054220</td>\n",
       "      <td>0.985774</td>\n",
       "      <td>2.071148</td>\n",
       "      <td>0.475793</td>\n",
       "    </tr>\n",
       "    <tr>\n",
       "      <th>min</th>\n",
       "      <td>0.000000</td>\n",
       "      <td>0.000000</td>\n",
       "      <td>0.000000</td>\n",
       "      <td>0.000000</td>\n",
       "      <td>12.000000</td>\n",
       "      <td>0.000000</td>\n",
       "      <td>0.000000</td>\n",
       "      <td>0.000000</td>\n",
       "      <td>0.000000</td>\n",
       "      <td>0.000000</td>\n",
       "      <td>...</td>\n",
       "      <td>0.000000</td>\n",
       "      <td>1.000000</td>\n",
       "      <td>0.000000</td>\n",
       "      <td>0.000000</td>\n",
       "      <td>0.000000</td>\n",
       "      <td>0.000000</td>\n",
       "      <td>1.000000</td>\n",
       "      <td>1.000000</td>\n",
       "      <td>1.000000</td>\n",
       "      <td>0.000000</td>\n",
       "    </tr>\n",
       "    <tr>\n",
       "      <th>25%</th>\n",
       "      <td>0.000000</td>\n",
       "      <td>0.000000</td>\n",
       "      <td>0.000000</td>\n",
       "      <td>1.000000</td>\n",
       "      <td>24.000000</td>\n",
       "      <td>0.000000</td>\n",
       "      <td>0.000000</td>\n",
       "      <td>0.000000</td>\n",
       "      <td>1.000000</td>\n",
       "      <td>0.000000</td>\n",
       "      <td>...</td>\n",
       "      <td>0.000000</td>\n",
       "      <td>2.000000</td>\n",
       "      <td>0.000000</td>\n",
       "      <td>0.000000</td>\n",
       "      <td>0.000000</td>\n",
       "      <td>0.000000</td>\n",
       "      <td>6.000000</td>\n",
       "      <td>4.000000</td>\n",
       "      <td>5.000000</td>\n",
       "      <td>0.000000</td>\n",
       "    </tr>\n",
       "    <tr>\n",
       "      <th>50%</th>\n",
       "      <td>0.000000</td>\n",
       "      <td>0.000000</td>\n",
       "      <td>0.000000</td>\n",
       "      <td>1.000000</td>\n",
       "      <td>27.000000</td>\n",
       "      <td>0.000000</td>\n",
       "      <td>0.000000</td>\n",
       "      <td>0.000000</td>\n",
       "      <td>1.000000</td>\n",
       "      <td>1.000000</td>\n",
       "      <td>...</td>\n",
       "      <td>0.000000</td>\n",
       "      <td>2.000000</td>\n",
       "      <td>0.000000</td>\n",
       "      <td>0.000000</td>\n",
       "      <td>0.000000</td>\n",
       "      <td>0.000000</td>\n",
       "      <td>8.000000</td>\n",
       "      <td>5.000000</td>\n",
       "      <td>7.000000</td>\n",
       "      <td>0.000000</td>\n",
       "    </tr>\n",
       "    <tr>\n",
       "      <th>75%</th>\n",
       "      <td>0.000000</td>\n",
       "      <td>1.000000</td>\n",
       "      <td>1.000000</td>\n",
       "      <td>1.000000</td>\n",
       "      <td>31.000000</td>\n",
       "      <td>1.000000</td>\n",
       "      <td>0.000000</td>\n",
       "      <td>0.000000</td>\n",
       "      <td>1.000000</td>\n",
       "      <td>1.000000</td>\n",
       "      <td>...</td>\n",
       "      <td>0.000000</td>\n",
       "      <td>3.000000</td>\n",
       "      <td>2.000000</td>\n",
       "      <td>3.000000</td>\n",
       "      <td>0.000000</td>\n",
       "      <td>1.000000</td>\n",
       "      <td>10.000000</td>\n",
       "      <td>6.000000</td>\n",
       "      <td>8.000000</td>\n",
       "      <td>1.000000</td>\n",
       "    </tr>\n",
       "    <tr>\n",
       "      <th>max</th>\n",
       "      <td>1.000000</td>\n",
       "      <td>1.000000</td>\n",
       "      <td>1.000000</td>\n",
       "      <td>1.000000</td>\n",
       "      <td>98.000000</td>\n",
       "      <td>1.000000</td>\n",
       "      <td>1.000000</td>\n",
       "      <td>1.000000</td>\n",
       "      <td>1.000000</td>\n",
       "      <td>1.000000</td>\n",
       "      <td>...</td>\n",
       "      <td>1.000000</td>\n",
       "      <td>5.000000</td>\n",
       "      <td>30.000000</td>\n",
       "      <td>30.000000</td>\n",
       "      <td>1.000000</td>\n",
       "      <td>1.000000</td>\n",
       "      <td>13.000000</td>\n",
       "      <td>6.000000</td>\n",
       "      <td>8.000000</td>\n",
       "      <td>1.000000</td>\n",
       "    </tr>\n",
       "  </tbody>\n",
       "</table>\n",
       "<p>8 rows × 23 columns</p>\n",
       "</div>"
      ],
      "text/plain": [
       "       Diabetes_binary         HighBP       HighChol      CholCheck  \\\n",
       "count    253680.000000  253680.000000  253680.000000  253680.000000   \n",
       "mean          0.139333       0.429001       0.424121       0.962670   \n",
       "std           0.346294       0.494934       0.494210       0.189571   \n",
       "min           0.000000       0.000000       0.000000       0.000000   \n",
       "25%           0.000000       0.000000       0.000000       1.000000   \n",
       "50%           0.000000       0.000000       0.000000       1.000000   \n",
       "75%           0.000000       1.000000       1.000000       1.000000   \n",
       "max           1.000000       1.000000       1.000000       1.000000   \n",
       "\n",
       "                 BMI         Smoker         Stroke  HeartDiseaseorAttack  \\\n",
       "count  253680.000000  253680.000000  253680.000000         253680.000000   \n",
       "mean       28.382364       0.443169       0.040571              0.094186   \n",
       "std         6.608694       0.496761       0.197294              0.292087   \n",
       "min        12.000000       0.000000       0.000000              0.000000   \n",
       "25%        24.000000       0.000000       0.000000              0.000000   \n",
       "50%        27.000000       0.000000       0.000000              0.000000   \n",
       "75%        31.000000       1.000000       0.000000              0.000000   \n",
       "max        98.000000       1.000000       1.000000              1.000000   \n",
       "\n",
       "        PhysActivity         Fruits  ...    NoDocbcCost        GenHlth  \\\n",
       "count  253680.000000  253680.000000  ...  253680.000000  253680.000000   \n",
       "mean        0.756544       0.634256  ...       0.084177       2.511392   \n",
       "std         0.429169       0.481639  ...       0.277654       1.068477   \n",
       "min         0.000000       0.000000  ...       0.000000       1.000000   \n",
       "25%         1.000000       0.000000  ...       0.000000       2.000000   \n",
       "50%         1.000000       1.000000  ...       0.000000       2.000000   \n",
       "75%         1.000000       1.000000  ...       0.000000       3.000000   \n",
       "max         1.000000       1.000000  ...       1.000000       5.000000   \n",
       "\n",
       "            MentHlth       PhysHlth       DiffWalk            Sex  \\\n",
       "count  253680.000000  253680.000000  253680.000000  253680.000000   \n",
       "mean        3.184772       4.242081       0.168224       0.440342   \n",
       "std         7.412847       8.717951       0.374066       0.496429   \n",
       "min         0.000000       0.000000       0.000000       0.000000   \n",
       "25%         0.000000       0.000000       0.000000       0.000000   \n",
       "50%         0.000000       0.000000       0.000000       0.000000   \n",
       "75%         2.000000       3.000000       0.000000       1.000000   \n",
       "max        30.000000      30.000000       1.000000       1.000000   \n",
       "\n",
       "                 Age      Education         Income          Obese  \n",
       "count  253680.000000  253680.000000  253680.000000  253680.000000  \n",
       "mean        8.032119       5.050434       6.053875       0.346306  \n",
       "std         3.054220       0.985774       2.071148       0.475793  \n",
       "min         1.000000       1.000000       1.000000       0.000000  \n",
       "25%         6.000000       4.000000       5.000000       0.000000  \n",
       "50%         8.000000       5.000000       7.000000       0.000000  \n",
       "75%        10.000000       6.000000       8.000000       1.000000  \n",
       "max        13.000000       6.000000       8.000000       1.000000  \n",
       "\n",
       "[8 rows x 23 columns]"
      ]
     },
     "metadata": {},
     "output_type": "display_data"
    },
    {
     "name": "stdout",
     "output_type": "stream",
     "text": [
      "\n",
      "Percentage of non-obese individuals in the dataset: 65.369%\n",
      "Percentage of obese individuals in the dataset: 34.631%\n"
     ]
    },
    {
     "data": {
      "image/png": "[encoded data removed]",
      "text/plain": [
       "<Figure size 640x480 with 1 Axes>"
      ]
     },
     "metadata": {},
     "output_type": "display_data"
    }
   ],
   "source": [
    "import matplotlib.pyplot as plt\n",
    "import seaborn as sns\n",
    "\n",
    "# Get summary statistics for each feature in the dataframe\n",
    "display(df.describe())\n",
    "\n",
    "# Get a visualization of the BMI feature for EDA purposes\n",
    "BMI = df['BMI']\n",
    "bins = [10, 20, 30, 40, 50, 60]\n",
    "plt.hist(BMI, bins = bins)\n",
    "plt.title(\"Histogram of BMI for CDC dataset\")\n",
    "plt.xlabel(\"BMI\")\n",
    "plt.ylabel(\"Frequency\")\n",
    "\n",
    "# Find the proportion of non-obese and obese individuals in the CDC dataset\n",
    "non_obese = df.loc[df['Obese'] == 0, 'Obese']\n",
    "obese = df.loc[df['Obese'] == 1, 'Obese']\n",
    "print(f'\\nPercentage of non-obese individuals in the dataset: {round(((len(non_obese) / len(df)) * 100), 3)}%')\n",
    "print(f'Percentage of obese individuals in the dataset: {round(((len(obese) / len(df)) * 100), 3)}%')"
   ]
  },
  {
   "cell_type": "markdown",
   "metadata": {},
   "source": [
    "In terms of our data, the majority of our feature variables seem to binary because as seen in the summary statistics for the dataframe, there are many columns such as HighBP, highChol, etc which have a maximum value of 1.0 which indicates that the feature takes on values between 0 and 1. In the context of the data, this means that for a given individual, for highBP for instance, they either have high blood pressure or they do not. In this EDA, since our goal is to predict obesity and obesity arises directly from BMI, we wanted to do some exploration into the BMI feature. To do this, we created the above histogram and as seen in the histogram the majority of individuals have a BMI between 20-30 with another smaller peak around BMI 30-40. From the histogram, the distribution for BMI appears to be slightly skewed to the right, and this would make sense given the above summary statistics for each feature in the dataframe, as for the BMI feature the maximum value was 98 which is a pretty significant outlier which could likely skew the distribution of BMI towards higher values. \n",
    "\n",
    "Since we are trying to predict obesity, we also wanted to gain some insight into our feature variable \"Obese\". As such, we found the proportion of each class of obese (i.e. obese/not obese) in the obesity feature. What we found was that roughly 65% of the individuals in our dataset are not obese and 35% are obese. These proportions may pose an issue when fitting our machine learning models, as to ensure the most optimal prediction we want the proportion of the two classes to be roughly equal, so around 50% for each class. We will need to address this data imbalance issue upon fitting our machine learning models. "
   ]
  },
  {
   "cell_type": "markdown",
   "metadata": {},
   "source": [
    "##### **2. Latin America Dataset EDA**"
   ]
  },
  {
   "cell_type": "code",
   "execution_count": 4,
   "metadata": {},
   "outputs": [
    {
     "data": {
      "text/html": [
       "<div>\n",
       "<style scoped>\n",
       "    .dataframe tbody tr th:only-of-type {\n",
       "        vertical-align: middle;\n",
       "    }\n",
       "\n",
       "    .dataframe tbody tr th {\n",
       "        vertical-align: top;\n",
       "    }\n",
       "\n",
       "    .dataframe thead th {\n",
       "        text-align: right;\n",
       "    }\n",
       "</style>\n",
       "<table border=\"1\" class=\"dataframe\">\n",
       "  <thead>\n",
       "    <tr style=\"text-align: right;\">\n",
       "      <th></th>\n",
       "      <th>Gender</th>\n",
       "      <th>Age</th>\n",
       "      <th>Height</th>\n",
       "      <th>Weight</th>\n",
       "      <th>family_history_with_overweight</th>\n",
       "      <th>eat_high_caloric</th>\n",
       "      <th>eat_vegetables</th>\n",
       "      <th>num_meals_per_day</th>\n",
       "      <th>food_between_meals</th>\n",
       "      <th>SMOKE</th>\n",
       "      <th>water_per_day</th>\n",
       "      <th>calories_per_day</th>\n",
       "      <th>physical_activity</th>\n",
       "      <th>technology_usage</th>\n",
       "      <th>alcohol_consumption</th>\n",
       "      <th>transportation_method</th>\n",
       "      <th>BMI</th>\n",
       "      <th>Obese</th>\n",
       "    </tr>\n",
       "  </thead>\n",
       "  <tbody>\n",
       "    <tr>\n",
       "      <th>count</th>\n",
       "      <td>2111.000000</td>\n",
       "      <td>2111.000000</td>\n",
       "      <td>2111.000000</td>\n",
       "      <td>2111.000000</td>\n",
       "      <td>2111.000000</td>\n",
       "      <td>2111.000000</td>\n",
       "      <td>2111.000000</td>\n",
       "      <td>2111.000000</td>\n",
       "      <td>2111.000000</td>\n",
       "      <td>2111.000000</td>\n",
       "      <td>2111.000000</td>\n",
       "      <td>2111.000000</td>\n",
       "      <td>2111.000000</td>\n",
       "      <td>2111.000000</td>\n",
       "      <td>2111.000000</td>\n",
       "      <td>2111.000000</td>\n",
       "      <td>2111.000000</td>\n",
       "      <td>2111.000000</td>\n",
       "    </tr>\n",
       "    <tr>\n",
       "      <th>mean</th>\n",
       "      <td>0.505921</td>\n",
       "      <td>24.312600</td>\n",
       "      <td>1.701677</td>\n",
       "      <td>86.586058</td>\n",
       "      <td>0.817622</td>\n",
       "      <td>0.883941</td>\n",
       "      <td>2.419043</td>\n",
       "      <td>2.685628</td>\n",
       "      <td>1.140692</td>\n",
       "      <td>0.020843</td>\n",
       "      <td>2.008011</td>\n",
       "      <td>0.045476</td>\n",
       "      <td>1.010298</td>\n",
       "      <td>0.657866</td>\n",
       "      <td>0.731407</td>\n",
       "      <td>4.701563</td>\n",
       "      <td>29.700284</td>\n",
       "      <td>0.461866</td>\n",
       "    </tr>\n",
       "    <tr>\n",
       "      <th>std</th>\n",
       "      <td>0.500083</td>\n",
       "      <td>6.345968</td>\n",
       "      <td>0.093305</td>\n",
       "      <td>26.191172</td>\n",
       "      <td>0.386247</td>\n",
       "      <td>0.320371</td>\n",
       "      <td>0.533927</td>\n",
       "      <td>0.778039</td>\n",
       "      <td>0.468543</td>\n",
       "      <td>0.142893</td>\n",
       "      <td>0.612953</td>\n",
       "      <td>0.208395</td>\n",
       "      <td>0.850592</td>\n",
       "      <td>0.608927</td>\n",
       "      <td>0.515498</td>\n",
       "      <td>0.577618</td>\n",
       "      <td>8.011220</td>\n",
       "      <td>0.498662</td>\n",
       "    </tr>\n",
       "    <tr>\n",
       "      <th>min</th>\n",
       "      <td>0.000000</td>\n",
       "      <td>14.000000</td>\n",
       "      <td>1.450000</td>\n",
       "      <td>39.000000</td>\n",
       "      <td>0.000000</td>\n",
       "      <td>0.000000</td>\n",
       "      <td>1.000000</td>\n",
       "      <td>1.000000</td>\n",
       "      <td>0.000000</td>\n",
       "      <td>0.000000</td>\n",
       "      <td>1.000000</td>\n",
       "      <td>0.000000</td>\n",
       "      <td>0.000000</td>\n",
       "      <td>0.000000</td>\n",
       "      <td>0.000000</td>\n",
       "      <td>1.000000</td>\n",
       "      <td>13.000000</td>\n",
       "      <td>0.000000</td>\n",
       "    </tr>\n",
       "    <tr>\n",
       "      <th>25%</th>\n",
       "      <td>0.000000</td>\n",
       "      <td>19.947192</td>\n",
       "      <td>1.630000</td>\n",
       "      <td>65.473343</td>\n",
       "      <td>1.000000</td>\n",
       "      <td>1.000000</td>\n",
       "      <td>2.000000</td>\n",
       "      <td>2.658738</td>\n",
       "      <td>1.000000</td>\n",
       "      <td>0.000000</td>\n",
       "      <td>1.584812</td>\n",
       "      <td>0.000000</td>\n",
       "      <td>0.124505</td>\n",
       "      <td>0.000000</td>\n",
       "      <td>0.000000</td>\n",
       "      <td>4.000000</td>\n",
       "      <td>24.300000</td>\n",
       "      <td>0.000000</td>\n",
       "    </tr>\n",
       "    <tr>\n",
       "      <th>50%</th>\n",
       "      <td>1.000000</td>\n",
       "      <td>22.777890</td>\n",
       "      <td>1.700499</td>\n",
       "      <td>83.000000</td>\n",
       "      <td>1.000000</td>\n",
       "      <td>1.000000</td>\n",
       "      <td>2.385502</td>\n",
       "      <td>3.000000</td>\n",
       "      <td>1.000000</td>\n",
       "      <td>0.000000</td>\n",
       "      <td>2.000000</td>\n",
       "      <td>0.000000</td>\n",
       "      <td>1.000000</td>\n",
       "      <td>0.625350</td>\n",
       "      <td>1.000000</td>\n",
       "      <td>5.000000</td>\n",
       "      <td>28.700000</td>\n",
       "      <td>0.000000</td>\n",
       "    </tr>\n",
       "    <tr>\n",
       "      <th>75%</th>\n",
       "      <td>1.000000</td>\n",
       "      <td>26.000000</td>\n",
       "      <td>1.768464</td>\n",
       "      <td>107.430682</td>\n",
       "      <td>1.000000</td>\n",
       "      <td>1.000000</td>\n",
       "      <td>3.000000</td>\n",
       "      <td>3.000000</td>\n",
       "      <td>1.000000</td>\n",
       "      <td>0.000000</td>\n",
       "      <td>2.477420</td>\n",
       "      <td>0.000000</td>\n",
       "      <td>1.666678</td>\n",
       "      <td>1.000000</td>\n",
       "      <td>1.000000</td>\n",
       "      <td>5.000000</td>\n",
       "      <td>36.000000</td>\n",
       "      <td>1.000000</td>\n",
       "    </tr>\n",
       "    <tr>\n",
       "      <th>max</th>\n",
       "      <td>1.000000</td>\n",
       "      <td>61.000000</td>\n",
       "      <td>1.980000</td>\n",
       "      <td>173.000000</td>\n",
       "      <td>1.000000</td>\n",
       "      <td>1.000000</td>\n",
       "      <td>3.000000</td>\n",
       "      <td>4.000000</td>\n",
       "      <td>3.000000</td>\n",
       "      <td>1.000000</td>\n",
       "      <td>3.000000</td>\n",
       "      <td>1.000000</td>\n",
       "      <td>3.000000</td>\n",
       "      <td>2.000000</td>\n",
       "      <td>3.000000</td>\n",
       "      <td>5.000000</td>\n",
       "      <td>50.800000</td>\n",
       "      <td>1.000000</td>\n",
       "    </tr>\n",
       "  </tbody>\n",
       "</table>\n",
       "</div>"
      ],
      "text/plain": [
       "            Gender          Age       Height       Weight  \\\n",
       "count  2111.000000  2111.000000  2111.000000  2111.000000   \n",
       "mean      0.505921    24.312600     1.701677    86.586058   \n",
       "std       0.500083     6.345968     0.093305    26.191172   \n",
       "min       0.000000    14.000000     1.450000    39.000000   \n",
       "25%       0.000000    19.947192     1.630000    65.473343   \n",
       "50%       1.000000    22.777890     1.700499    83.000000   \n",
       "75%       1.000000    26.000000     1.768464   107.430682   \n",
       "max       1.000000    61.000000     1.980000   173.000000   \n",
       "\n",
       "       family_history_with_overweight  eat_high_caloric  eat_vegetables  \\\n",
       "count                     2111.000000       2111.000000     2111.000000   \n",
       "mean                         0.817622          0.883941        2.419043   \n",
       "std                          0.386247          0.320371        0.533927   \n",
       "min                          0.000000          0.000000        1.000000   \n",
       "25%                          1.000000          1.000000        2.000000   \n",
       "50%                          1.000000          1.000000        2.385502   \n",
       "75%                          1.000000          1.000000        3.000000   \n",
       "max                          1.000000          1.000000        3.000000   \n",
       "\n",
       "       num_meals_per_day  food_between_meals        SMOKE  water_per_day  \\\n",
       "count        2111.000000         2111.000000  2111.000000    2111.000000   \n",
       "mean            2.685628            1.140692     0.020843       2.008011   \n",
       "std             0.778039            0.468543     0.142893       0.612953   \n",
       "min             1.000000            0.000000     0.000000       1.000000   \n",
       "25%             2.658738            1.000000     0.000000       1.584812   \n",
       "50%             3.000000            1.000000     0.000000       2.000000   \n",
       "75%             3.000000            1.000000     0.000000       2.477420   \n",
       "max             4.000000            3.000000     1.000000       3.000000   \n",
       "\n",
       "       calories_per_day  physical_activity  technology_usage  \\\n",
       "count       2111.000000        2111.000000       2111.000000   \n",
       "mean           0.045476           1.010298          0.657866   \n",
       "std            0.208395           0.850592          0.608927   \n",
       "min            0.000000           0.000000          0.000000   \n",
       "25%            0.000000           0.124505          0.000000   \n",
       "50%            0.000000           1.000000          0.625350   \n",
       "75%            0.000000           1.666678          1.000000   \n",
       "max            1.000000           3.000000          2.000000   \n",
       "\n",
       "       alcohol_consumption  transportation_method          BMI        Obese  \n",
       "count          2111.000000            2111.000000  2111.000000  2111.000000  \n",
       "mean              0.731407               4.701563    29.700284     0.461866  \n",
       "std               0.515498               0.577618     8.011220     0.498662  \n",
       "min               0.000000               1.000000    13.000000     0.000000  \n",
       "25%               0.000000               4.000000    24.300000     0.000000  \n",
       "50%               1.000000               5.000000    28.700000     0.000000  \n",
       "75%               1.000000               5.000000    36.000000     1.000000  \n",
       "max               3.000000               5.000000    50.800000     1.000000  "
      ]
     },
     "metadata": {},
     "output_type": "display_data"
    },
    {
     "name": "stdout",
     "output_type": "stream",
     "text": [
      "\n",
      "Percentage of non-obese individuals in the dataset: 53.813%\n",
      "Percentage of obese individuals in the dataset: 46.187%\n",
      "transportation_method\n",
      "5    1580\n",
      "4     457\n",
      "3      56\n",
      "2      11\n",
      "1       7\n",
      "Name: count, dtype: int64\n"
     ]
    },
    {
     "data": {
      "image/png": "[encoded data removed]",
      "text/plain": [
       "<Figure size 640x480 with 1 Axes>"
      ]
     },
     "metadata": {},
     "output_type": "display_data"
    }
   ],
   "source": [
    "display(df_latin.describe())\n",
    "\n",
    "BMI = df_latin['BMI']\n",
    "bins = [10, 20, 30, 40, 50, 60]\n",
    "plt.hist(BMI, bins = bins)\n",
    "plt.title(\"Histogram of BMI for Latin American Individuals dataset\")\n",
    "plt.xlabel(\"BMI\")\n",
    "plt.ylabel(\"Frequency\")\n",
    "\n",
    "non_obese_latin = df_latin.loc[df_latin['Obese'] == 0, 'Obese']\n",
    "obese_latin = df_latin.loc[df_latin['Obese'] == 1, 'Obese']\n",
    "\n",
    "print(f'\\nPercentage of non-obese individuals in the dataset: {round(((len(non_obese_latin) / len(df_latin)) * 100), 3)}%')\n",
    "print(f'Percentage of obese individuals in the dataset: {round(((len(obese_latin) / len(df_latin)) * 100), 3)}%')\n",
    "\n",
    "print(df_latin['transportation_method'].value_counts())\n"
   ]
  },
  {
   "cell_type": "markdown",
   "metadata": {},
   "source": [
    "For this dataset on individuals in Latin America, we performed a similar EDA as we did to individuals in the CDC dataset. As seen in the above summary statistics for the dataset, similarly to the CDC dataset there are many features with a maximum value of 1 indicating that those are binary features, like eat_high_caloric which represents whether or not an individual eats high calorie food. Another interesting finding is that there are a few features, such as transporation_method, which have a maximum value of 5. This indicates that those features have multiple labels contrary to the simple 0 or 1 to indicate \"yes\"/\"no\" for a lot of our features. \n",
    "\n",
    "Similarly to our EDA on the CDC dataset, we also wanted to explore BMI feature in this latin american dataset. As such, we created a visualization of the distribution of BMI through the above histogram where we observe that the majority of individuals have a BMI between 20-30 with a slighly smaller peak at BMI 35-40. Additionally, the distribution appears to be more normally distributed relative to the BMI distribution in the CDC dataset. \n",
    "\n",
    "Since we are trying to predict obesity for latin american individuals as well, we also wanted to gain some insight into our feature variable \"Obese\". As such, we found the proportion of each class of obese (i.e. obese/not obese) in the obesity feature. What we found was that roughly 54% of the individuals in our dataset are not obese and 46% are obese, which indicates that the proportions for each class are roughly equal. This is ideal for our when we have to fit our machine learning models as we will not need to address data imbalance issues with this population, contrary to the CDC dataset population. "
   ]
  },
  {
   "cell_type": "markdown",
   "metadata": {},
   "source": [
    "### **Visualization (at least 1)**"
   ]
  },
  {
   "cell_type": "markdown",
   "metadata": {},
   "source": [
    "For our visualization, we would like to visualize the link between the income of an individual and their BMI from the CDC dataset. The hypothesis we had going into this was that a higher income would result in a lower BMI on average. This is because a higher income typically results in more access to healthy food as well as better medical access, likely reducing the chances of medical obesity."
   ]
  },
  {
   "cell_type": "code",
   "execution_count": 5,
   "metadata": {},
   "outputs": [
    {
     "name": "stderr",
     "output_type": "stream",
     "text": [
      "c:\\Users\\taher\\AppData\\Local\\Programs\\Python\\Python311\\Lib\\site-packages\\seaborn\\_oldcore.py:1119: FutureWarning: use_inf_as_na option is deprecated and will be removed in a future version. Convert inf values to NaN before operating instead.\n",
      "  with pd.option_context('mode.use_inf_as_na', True):\n",
      "c:\\Users\\taher\\AppData\\Local\\Programs\\Python\\Python311\\Lib\\site-packages\\seaborn\\_oldcore.py:1119: FutureWarning: use_inf_as_na option is deprecated and will be removed in a future version. Convert inf values to NaN before operating instead.\n",
      "  with pd.option_context('mode.use_inf_as_na', True):\n",
      "c:\\Users\\taher\\AppData\\Local\\Programs\\Python\\Python311\\Lib\\site-packages\\seaborn\\_oldcore.py:1075: FutureWarning: When grouping with a length-1 list-like, you will need to pass a length-1 tuple to get_group in a future version of pandas. Pass `(name,)` instead of `name` to silence this warning.\n",
      "  data_subset = grouped_data.get_group(pd_key)\n",
      "c:\\Users\\taher\\AppData\\Local\\Programs\\Python\\Python311\\Lib\\site-packages\\seaborn\\_oldcore.py:1075: FutureWarning: When grouping with a length-1 list-like, you will need to pass a length-1 tuple to get_group in a future version of pandas. Pass `(name,)` instead of `name` to silence this warning.\n",
      "  data_subset = grouped_data.get_group(pd_key)\n"
     ]
    },
    {
     "data": {
      "image/png": "[encoded data removed]",
      "text/plain": [
       "<Figure size 640x480 with 1 Axes>"
      ]
     },
     "metadata": {},
     "output_type": "display_data"
    }
   ],
   "source": [
    "#create a lineplot using data from the dataframe, with income on the x axis and BMI on the y axis\n",
    "sns.lineplot(data = df, marker = 'o', x = 'Income', y = 'BMI', hue = 'Sex', estimator = np.mean, errorbar = None, palette=['red', 'blue'])\n",
    "plt.grid(linestyle = '--', axis = 'y', which = 'major')\n",
    "\n",
    "#create a title and labels\n",
    "plt.title(\"Mean BMI of Individuals Accross Income Levels\")\n",
    "plt.ylabel(\"BMI Score\")\n",
    "plt.xlabel(\"Income ($)\")\n",
    "\n",
    "#create a legend for the graph\n",
    "plt.legend(title = 'Sex', loc = 'upper right', bbox_to_anchor=(1, 1), labels = [\"Female\", \"Male\"])\n",
    "\n",
    "#rename the income levels to meaningful labels\n",
    "plt.xticks([1,2,3,4,5,6,7,8], ['<10k', '<15k', '<20k', '<25k', '<35k', '<50k', '<75k','>=75k'])\n",
    "\n",
    "plt.show()"
   ]
  },
  {
   "cell_type": "markdown",
   "metadata": {},
   "source": [
    "This was an interesting hypothesis to test, as the income of an individual seemingly has a positive relationship with BMI. The higher an individual's income, the lower their BMI on average. While this is true accross both sexes, it seemed to have a bigger impact on women. The impact on men is also apparent, with a clear downward trajectory, but with a much lower rate of change relative to women.\n",
    "\n",
    "In summary the results of this graph show a relationship between income and obesity across both men and women in our CDC dataset."
   ]
  },
  {
   "cell_type": "markdown",
   "metadata": {},
   "source": [
    "### **ML Analysis (At least 1)**\n",
    "\n",
    "For this, we will perform an ML analysis on both the CDC and latin america datasets. "
   ]
  },
  {
   "cell_type": "markdown",
   "metadata": {},
   "source": [
    "##### **1. CDC Dataset ML Analysis**\n",
    "\n",
    "We will first try to predict obesity using the features from the CDC dataset. Since we are predicting a binary outcome, we will use classifcation ML models, such as logistic regression and a decision tree classifier. \n",
    "Note that we will use 75% of our data for training and 25% for testing. Note that for all methods/models, we set a seed (i.e random_state) to be 125 in order to ensure the reproducibility of our results. See below for output and subsequent interpretation. "
   ]
  },
  {
   "cell_type": "markdown",
   "metadata": {},
   "source": [
    "##### **Logistic Regression**"
   ]
  },
  {
   "cell_type": "code",
   "execution_count": 6,
   "metadata": {},
   "outputs": [
    {
     "data": {
      "text/plain": [
       "0        0\n",
       "1        1\n",
       "2        0\n",
       "3        0\n",
       "4        0\n",
       "        ..\n",
       "63415    0\n",
       "63416    0\n",
       "63417    0\n",
       "63418    0\n",
       "63419    0\n",
       "Name: Predicted values of Obesity target feature from CDC dataset, Length: 63420, dtype: int64"
      ]
     },
     "metadata": {},
     "output_type": "display_data"
    },
    {
     "name": "stdout",
     "output_type": "stream",
     "text": [
      "The accuracy of the logistic regression model on predicting obesity in the CDC dataset is: 0.6587038789025544\n"
     ]
    },
    {
     "data": {
      "image/png": "[encoded data removed]",
      "text/plain": [
       "<Figure size 640x480 with 2 Axes>"
      ]
     },
     "metadata": {},
     "output_type": "display_data"
    }
   ],
   "source": [
    "from sklearn.linear_model import LogisticRegression\n",
    "from sklearn.model_selection import train_test_split\n",
    "from sklearn.preprocessing import StandardScaler\n",
    "from sklearn.metrics import confusion_matrix, ConfusionMatrixDisplay\n",
    "\n",
    "X_cdc = df.drop(columns = ['BMI', 'Obese'])\n",
    "y_cdc = df[['Obese']]\n",
    "\n",
    "X_train_cdc, X_test_cdc, y_train_cdc, y_test_cdc = train_test_split(X_cdc, y_cdc, test_size = 0.25, random_state = 125)\n",
    "\n",
    "scaler = StandardScaler()\n",
    "X_train_cdc = scaler.fit_transform(X_train_cdc)\n",
    "X_test_cdc = scaler.transform(X_test_cdc)\n",
    "\n",
    "logistic_regression_model_cdc = LogisticRegression(class_weight = 'balanced', random_state=125) # Set class_weight to balanced to try and address the data imbalance issues in the Obese target feature\n",
    "logistic_regression_model_cdc.fit(X_train_cdc, np.ravel(y_train_cdc))\n",
    "\n",
    "predictions_logistic_cdc = logistic_regression_model_cdc.predict(X_test_cdc)\n",
    "predictions_logistic_cdc_series = pd.Series(predictions_logistic_cdc, name = \"Predicted values of Obesity target feature from CDC dataset\")\n",
    "display(predictions_logistic_cdc_series)\n",
    "\n",
    "conf_matrix_logistic = confusion_matrix(y_test_cdc, predictions_logistic_cdc)\n",
    "display_conf_matrix = ConfusionMatrixDisplay(conf_matrix_logistic, display_labels=[\"Not Obese\", \"Obese\"])\n",
    "display_conf_matrix.plot()\n",
    "\n",
    "logistic_cdc_accuracy = logistic_regression_model_cdc.score(X_test_cdc, y_test_cdc)\n",
    "print(f'The accuracy of the logistic regression model on predicting obesity in the CDC dataset is: {logistic_cdc_accuracy}')"
   ]
  },
  {
   "cell_type": "markdown",
   "metadata": {},
   "source": [
    "##### "
   ]
  },
  {
   "cell_type": "markdown",
   "metadata": {},
   "source": [
    "As can be seen from this, our logistic regression model for the CDC dataset has roughly 65.87% accuracy in predicting obesity in individuals from the CDC dataset based on all feature variables of the CDC dataset regardless of BMI and Obese \n",
    "(Since Obese is our target feature and arises directly from BMI). If we assume the baseline accuracy to be 50%, then our logistic regression model is roughly 15.87% better in predicting obesity relative to the baseline. "
   ]
  },
  {
   "cell_type": "markdown",
   "metadata": {},
   "source": [
    "##### **Decision Tree Classifier**"
   ]
  },
  {
   "cell_type": "code",
   "execution_count": 7,
   "metadata": {},
   "outputs": [
    {
     "data": {
      "text/plain": [
       "0        0\n",
       "1        0\n",
       "2        0\n",
       "3        0\n",
       "4        1\n",
       "        ..\n",
       "63415    1\n",
       "63416    0\n",
       "63417    1\n",
       "63418    1\n",
       "63419    0\n",
       "Name: Predicted values of Obesity target feature from CDC dataset, Length: 63420, dtype: int64"
      ]
     },
     "metadata": {},
     "output_type": "display_data"
    },
    {
     "name": "stdout",
     "output_type": "stream",
     "text": [
      "The accuracy of the decision tree classiifer model on predicting obesity in the CDC dataset is: 0.6069694102806685\n"
     ]
    },
    {
     "data": {
      "image/png": "[encoded data removed]",
      "text/plain": [
       "<Figure size 640x480 with 2 Axes>"
      ]
     },
     "metadata": {},
     "output_type": "display_data"
    }
   ],
   "source": [
    "from sklearn.tree import DecisionTreeClassifier\n",
    "\n",
    "decision_tree_model_cdc = DecisionTreeClassifier(class_weight= 'balanced', random_state=125)\n",
    "decision_tree_model_cdc.fit(X_train_cdc, np.ravel(y_train_cdc))\n",
    "\n",
    "predictions_tree_cdc = decision_tree_model_cdc.predict(X_test_cdc)\n",
    "predictions_tree_cdc_series = pd.Series(predictions_tree_cdc, name = \"Predicted values of Obesity target feature from CDC dataset\")\n",
    "display(predictions_tree_cdc_series)\n",
    "\n",
    "conf_matrix_tree = confusion_matrix(y_test_cdc, predictions_tree_cdc)\n",
    "display_conf_matrix = ConfusionMatrixDisplay(conf_matrix_tree, display_labels=[\"Not Obese\", \"Obese\"])\n",
    "display_conf_matrix.plot()\n",
    "\n",
    "decision_tree_accuracy = decision_tree_model_cdc.score(X_test_cdc, y_test_cdc)\n",
    "print(f'The accuracy of the decision tree classiifer model on predicting obesity in the CDC dataset is: {decision_tree_accuracy}')"
   ]
  },
  {
   "cell_type": "markdown",
   "metadata": {},
   "source": [
    "As can be seen from this, our decision tree classifier model for the CDC dataset has roughly 60.69% accuracy in predicting obesity in individuals from the CDC dataset based on all feature variables of the CDC dataset regardless of BMI and Obese. If we assume the baseline accuracy to be 50%, then our decision tree classifier model is roughly 10.69% better in predicting obesity relative to the baseline. This decision tree classifer also performs slightly worse than the logistic regression model in terms of accuracy in predicting obesity in individuals from the CDC dataset since the logistic regression model had a slightly higher accuracy of roughly 65.87%. "
   ]
  },
  {
   "cell_type": "markdown",
   "metadata": {},
   "source": [
    "All in all, in terms of predicting obesity for the CDC dataset, our current accuracy metrics for logistic regression and decision tree classifier are between roughly 60-66%. As a result, there may be more techniques to explore like K-fold cross validation to try and see if we can improve the accuracy metric in order to gain a better prediction of obesity. "
   ]
  },
  {
   "cell_type": "markdown",
   "metadata": {},
   "source": [
    "##### **2. Latin America Dataset ML Analysis**"
   ]
  },
  {
   "cell_type": "markdown",
   "metadata": {},
   "source": [
    "##### **Logistic Regression**"
   ]
  },
  {
   "cell_type": "code",
   "execution_count": 8,
   "metadata": {},
   "outputs": [
    {
     "data": {
      "text/plain": [
       "0      1\n",
       "1      1\n",
       "2      1\n",
       "3      1\n",
       "4      1\n",
       "      ..\n",
       "523    0\n",
       "524    1\n",
       "525    1\n",
       "526    0\n",
       "527    0\n",
       "Name: Predicted values of Obesity target feature from Latin dataset, Length: 528, dtype: int64"
      ]
     },
     "metadata": {},
     "output_type": "display_data"
    },
    {
     "name": "stdout",
     "output_type": "stream",
     "text": [
      "The accuracy of the logistic regression model on predicting obesity in the Latin dataset is: 0.9943181818181818\n"
     ]
    },
    {
     "data": {
      "image/png": "[encoded data removed]",
      "text/plain": [
       "<Figure size 640x480 with 2 Axes>"
      ]
     },
     "metadata": {},
     "output_type": "display_data"
    }
   ],
   "source": [
    "X_latin = df_latin.drop(columns = ['BMI', 'Obese'])\n",
    "y_latin = df_latin[['Obese']]\n",
    "\n",
    "X_train_latin, X_test_latin, y_train_latin, y_test_latin = train_test_split(X_latin, y_latin, test_size = 0.25, random_state = 125)\n",
    "\n",
    "scaler = StandardScaler()\n",
    "X_train_latin = scaler.fit_transform(X_train_latin)\n",
    "X_test_latin = scaler.transform(X_test_latin)\n",
    "\n",
    "logistic_regression_model_latin = LogisticRegression(class_weight = 'balanced', random_state=125) # Set class_weight to balanced to try and address the data imbalance issues in the Obese target feature\n",
    "logistic_regression_model_latin.fit(X_train_latin, np.ravel(y_train_latin))\n",
    "\n",
    "predictions_logistic_latin = logistic_regression_model_latin.predict(X_test_latin)\n",
    "predictions_logistic_latin_series = pd.Series(predictions_logistic_latin, name = \"Predicted values of Obesity target feature from Latin dataset\")\n",
    "display(predictions_logistic_latin_series)\n",
    "\n",
    "conf_matrix_logistic = confusion_matrix(y_test_latin, predictions_logistic_latin)\n",
    "display_conf_matrix = ConfusionMatrixDisplay(conf_matrix_logistic, display_labels=[\"Not Obese\", \"Obese\"])\n",
    "display_conf_matrix.plot()\n",
    "\n",
    "logistic_latin_accuracy = logistic_regression_model_latin.score(X_test_latin, y_test_latin)\n",
    "print(f'The accuracy of the logistic regression model on predicting obesity in the Latin dataset is: {logistic_latin_accuracy}')"
   ]
  },
  {
   "cell_type": "markdown",
   "metadata": {},
   "source": [
    "As can be seen from this, our logistic regression model for the latin america dataset has roughly 99.43% accuracy in predicting obesity in individuals from latin american countries based on all feature variables of the latin america dataset regardless of BMI and Obese. If we assume the baseline accuracy to be 50%, then our logistic regression model is roughly 49.43% better in predicting obesity relative to the baseline. Evidently, our logistic regression model performs very well in predicting obesity in latin american individuals given the high accuracy score of 99.43%. "
   ]
  },
  {
   "cell_type": "markdown",
   "metadata": {},
   "source": [
    "##### **Decision Tree Classifier**"
   ]
  },
  {
   "cell_type": "code",
   "execution_count": 9,
   "metadata": {},
   "outputs": [
    {
     "data": {
      "text/plain": [
       "0      1\n",
       "1      1\n",
       "2      1\n",
       "3      1\n",
       "4      1\n",
       "      ..\n",
       "523    0\n",
       "524    1\n",
       "525    1\n",
       "526    0\n",
       "527    0\n",
       "Name: Predicted values of Obesity target feature from Latin dataset, Length: 528, dtype: int64"
      ]
     },
     "metadata": {},
     "output_type": "display_data"
    },
    {
     "name": "stdout",
     "output_type": "stream",
     "text": [
      "The accuracy of the decision tree classiifer model on predicting obesity in the Latin dataset is: 0.9886363636363636\n"
     ]
    },
    {
     "data": {
      "image/png": "[encoded data removed]",
      "text/plain": [
       "<Figure size 640x480 with 2 Axes>"
      ]
     },
     "metadata": {},
     "output_type": "display_data"
    }
   ],
   "source": [
    "decision_tree_model_latin = DecisionTreeClassifier(class_weight= 'balanced', random_state=125)\n",
    "decision_tree_model_latin.fit(X_train_latin, np.ravel(y_train_latin))\n",
    "\n",
    "predictions_tree_latin = decision_tree_model_latin.predict(X_test_latin)\n",
    "predictions_tree_latin_series = pd.Series(predictions_tree_latin, name = \"Predicted values of Obesity target feature from Latin dataset\")\n",
    "display(predictions_tree_latin_series)\n",
    "\n",
    "conf_matrix_tree = confusion_matrix(y_test_latin, predictions_tree_latin)\n",
    "display_conf_matrix = ConfusionMatrixDisplay(conf_matrix_tree, display_labels=[\"Not Obese\", \"Obese\"])\n",
    "display_conf_matrix.plot()\n",
    "\n",
    "decision_tree_accuracy = decision_tree_model_latin.score(X_test_latin, y_test_latin)\n",
    "print(f'The accuracy of the decision tree classiifer model on predicting obesity in the Latin dataset is: {decision_tree_accuracy}')"
   ]
  },
  {
   "cell_type": "markdown",
   "metadata": {},
   "source": [
    "As can be seen from this, our decision tree classifier model for the latin america dataset has roughly 98.86% accuracy in predicting obesity in individuals from the latin america dataset based on all feature variables regardless of BMI and Obese. If we assume the baseline accuracy to be 50%, then our decision tree classifier model is roughly 48.86% better in predicting obesity relative to the baseline. This decision tree classifer also performs slightly worse than the logistic regression model in terms of accuracy in predicting obesity in individuals from the latin america dataset since the logistic regression model had a slightly higher accuracy of roughly 99.43%. WIth that said, however, the decision tree classifier is very accurate in predicting obesity of latin american individuals given its high accuracy score of roughly 98.86%.  "
   ]
  },
  {
   "cell_type": "markdown",
   "metadata": {},
   "source": [
    "### **Reflection**\n",
    "\n",
    "- **What is the hardest part of the project that you've encountered so far?**\n",
    "    \n",
    "    So far, the hardest part of the project that our team has encountered has been to address the data imbalance issues from our CDC dataset. Essentially, when we try to fit our machine learning models, such as logistic regression, in order to obtain the best possible accuracy it is key to have the distribution of each class of a given feature be as close to equally distributed as possible. In our case, for our target feature \"Obese\", we would like the proportion of non-obese and obese individuals to be roughly 50% each, though in reality around 65% of our data from the CDC dataset is non obese and 35% is obese. This was a significant issue we encountered as our models will be more likely to predict instances of non-obese individuals given that the majority of individuals are not obese in the CDC dataset. As such, we took note of this being the hardest part of the project and attempted to address it by specifying a class_weight parameter when defining our logistic regression model. We aim to address this further for our final presentation and report, in which we will employ more methods to combat this issue of data imbalance, such as undersampling the majority class and then refitting the model as such, but all in all it is clear that the data imbalance issue is the hardest part of the project we have encountered so far. \n",
    "\n",
    "- **What are your initial insights?**\n",
    "\n",
    "    While working on this project, we have found out several things about our CDC data. First of all, we have found that some links we expected to be present were not, while on the other hand we discovered some links that we did not expect to be present. Most of the big insights which we have gained have to do with the links connecting individuals to obesity. Our data contains BMI scores for each individual, which we can then convert to an obesity score based on if the BMI is above 30 or not. We have found that the expected links are there, for example,  a higher income leading to lower BMIs on average. Additionally, between our two datasets we have also found out that the proportion of obese individuals are not the same with the latin america dataset having, relative to dataset size, a higher proportion of obese individuals compared to the CDC dataset. \n",
    "\n",
    "- **Are there any concrete results that you can show at this point? If not, why not?**\n",
    "\n",
    "    As of right now, there are not necessarily any concrete results that we can show. While we have come up with a few visualtizations and machine learning models to better understand both our CDC and Latin America datasets as it pertains to predicting obesity, we have not yet been able to come up with robust enough procedures/models that we feel comfortable in showing concrete results. For instance, for our logistic regression and decision tree machine learning models, we did not employ K-fold cross validation nor use additional techniques to address the data imbalance issues in the \"Obese\" feature for CDC dataset (like undersampling majority class). As such, in the CDC dataset our accuracy metric for predicting obesity is between 60-66% depending on our usage of decision tree/logistic regression, and we feel that we can obtain a better accuracy rate through the techniques we did not employ just yet as mentioned above. Once we address that, it is much more likely that we can show a concrete result in terms of predicting obesity based on various factors. \n",
    "\n",
    "- **Going forward, what are the current biggest problems you’re facing?**\n",
    "    Our biggest challenges at this stage are as follows:\n",
    "\n",
    "    Handling Class Imbalance: With a higher proportion of non-obese individuals in the CDC dataset, there’s a risk that our model may become biased towards predicting the majority class. We plan to experiment with resampling techniques or adjusting class weights in the model to address this. \n",
    "\n",
    "    Integrating the Secondary Dataset: The Latin American dataset includes unique features and categorical variables not present in the CDC data. We must find the shared features between these two datasets and perhaps create the models based on only those shared features. \n",
    "\n",
    "    Model Selection and Evaluation: Identifying the most suitable model for our data and accurately assessing its performance\n",
    "\n",
    "- **Do you think you are on track with your project? If not, what parts do you need to dedicate more time to?**\n",
    "    \n",
    "    We are currently on track with the project, and have met all of the milestones we have set for ourselves. This includes having created some useful visualizations of the data, having finished our first machine learning model. We also have begun creating more with the goal of improved accuracy, and also trying to understand which specific feature variables are most significant/most important in terms of predicting obesity. \n",
    "\n",
    "- **Given your initial exploration of the data, is it worth proceeding with your project, why? If not, how are you going to change your project and why do you think it’s better than your current results?**\n",
    "    \n",
    "    Given our initial exploration of the data it is worth proceeding with our project. Both datasets have many features that could reasonably predict obesity and especially in our second dataset since there are not any class balance issues our data is already very geared towards fitting our ML models. Consequently, we are on the right track in terms of predicting obesity in both datasets and we will be able to do further analysis such as determining which of the features are most important/statistically significant in predicting obesity across both datasets. \n",
    "\n",
    "\n",
    "\n"
   ]
  },
  {
   "cell_type": "markdown",
   "metadata": {},
   "source": [
    "### **Next Steps**"
   ]
  },
  {
   "cell_type": "markdown",
   "metadata": {},
   "source": [
    "The next steps for us will be exploring how to improve the accuracy of our ML models in predicting obesity on the CDC dataset, given we only had between 60-66% accuracy in predicting obesity based on our current models. As such, we may also explore using different kinds of models, like a support vector machine, to see if those models give us a better accuracy score. Using our latin america dataset we can also check if the same factors that are significant in contributing to obesity in the Latin American Community are the same as the CDC dataset. After getting the results from the models as well as other statistical analyses we can make conclusions on whether our project achieved the goals that we set for it based on how well we were able to carry out our objective. That is, how well did we do in coming up with a model to accurately predict obesity in both datasets. How well did we do in finding specific features that are important for predicting obesity? These are all questions we will ask ourselves at the end to evaluate whether our project achieved the goals we set for it or not. "
   ]
  },
  {
   "cell_type": "markdown",
   "metadata": {},
   "source": [
    "# **Post Progress Report Analysis**"
   ]
  },
  {
   "cell_type": "markdown",
   "metadata": {},
   "source": [
    "#### **Use K fold Cross Validation**"
   ]
  },
  {
   "cell_type": "markdown",
   "metadata": {},
   "source": [
    "#### **Logistic Regression CDC (all variables)**"
   ]
  },
  {
   "cell_type": "code",
   "execution_count": 10,
   "metadata": {},
   "outputs": [
    {
     "data": {
      "text/plain": [
       "np.float64(0.658628981393882)"
      ]
     },
     "execution_count": 10,
     "metadata": {},
     "output_type": "execute_result"
    }
   ],
   "source": [
    "from sklearn.model_selection import StratifiedKFold, cross_val_score\n",
    "\n",
    "X_cdc = df.drop(columns = ['BMI', 'Obese'])\n",
    "y_cdc = df[['Obese']]\n",
    "feature_names_cdc = X_cdc.columns\n",
    "\n",
    "scaler = StandardScaler()\n",
    "X_cdc = scaler.fit_transform(X_cdc)\n",
    "\n",
    "\n",
    "logistic_regression_model_cdc = LogisticRegression(class_weight = 'balanced', random_state=125, max_iter=1000)\n",
    "\n",
    "k = 10\n",
    "stratified_k_fold_cdc = StratifiedKFold(n_splits = k, shuffle = True, random_state = 125)\n",
    "accuracies_logistic_cdc = cross_val_score(logistic_regression_model_cdc, X_cdc, np.ravel(y_cdc), cv = stratified_k_fold_cdc, scoring = 'accuracy')\n",
    "accuracies_logistic_cdc = np.mean(accuracies_logistic_cdc)\n",
    "accuracies_logistic_cdc"
   ]
  },
  {
   "cell_type": "markdown",
   "metadata": {},
   "source": [
    "#### **Logistic Regression CDC (shared features only)**\n",
    "\n",
    "Note that PhysHealth in CDC and physical_activity in latin dataset represent different attributes of a person's physical health characteristics. These are not shared features. \n",
    "Don't include BMI either, since BMI is the primary indicator of obesity it is obvious that it will be good at predicting a person's obesity. We want to use the other features instead to see how well they predict obesity. "
   ]
  },
  {
   "cell_type": "code",
   "execution_count": 11,
   "metadata": {},
   "outputs": [
    {
     "data": {
      "text/plain": [
       "np.float64(0.5484232103437401)"
      ]
     },
     "execution_count": 11,
     "metadata": {},
     "output_type": "execute_result"
    }
   ],
   "source": [
    "X_cdc_shared = df[['Sex', 'Age', 'Veggies', 'Smoker', 'HvyAlcoholConsump']]\n",
    "y_cdc_shared = df[['Obese']]\n",
    "\n",
    "scaler = StandardScaler()\n",
    "X_cdc_shared = scaler.fit_transform(X_cdc_shared)\n",
    "\n",
    "logistic_regression_model_cdc_shared = LogisticRegression(class_weight='balanced', random_state=125)\n",
    "accuracies_logistic_cdc_shared = cross_val_score(logistic_regression_model_cdc_shared, X_cdc_shared, np.ravel(y_cdc_shared), cv = stratified_k_fold_cdc, scoring = 'accuracy')\n",
    "accuracies_logistic_cdc_shared = np.mean(accuracies_logistic_cdc_shared)\n",
    "accuracies_logistic_cdc_shared"
   ]
  },
  {
   "cell_type": "markdown",
   "metadata": {},
   "source": [
    "Only 54% accuracy when using the shared features for predicting obesity on CDC dataset"
   ]
  },
  {
   "cell_type": "markdown",
   "metadata": {},
   "source": [
    "#### **Decision Tree CDC (all variables)**"
   ]
  },
  {
   "cell_type": "code",
   "execution_count": 12,
   "metadata": {},
   "outputs": [
    {
     "data": {
      "text/plain": [
       "np.float64(0.6140807316304006)"
      ]
     },
     "execution_count": 12,
     "metadata": {},
     "output_type": "execute_result"
    }
   ],
   "source": [
    "decision_tree_model_cdc = DecisionTreeClassifier(class_weight = 'balanced', random_state = 125)\n",
    "\n",
    "accuracies_decision_tree_cdc = cross_val_score(decision_tree_model_cdc, X_cdc, np.ravel(y_cdc), cv = stratified_k_fold_cdc, scoring='accuracy')\n",
    "accuracies_decision_tree_cdc = np.mean(accuracies_decision_tree_cdc)\n",
    "accuracies_decision_tree_cdc"
   ]
  },
  {
   "cell_type": "markdown",
   "metadata": {},
   "source": [
    "#### **Decision Tree CDC (shared features only)**"
   ]
  },
  {
   "cell_type": "code",
   "execution_count": 13,
   "metadata": {},
   "outputs": [
    {
     "data": {
      "text/plain": [
       "np.float64(0.5324542730999685)"
      ]
     },
     "execution_count": 13,
     "metadata": {},
     "output_type": "execute_result"
    }
   ],
   "source": [
    "decision_tree_model_cdc_shared = DecisionTreeClassifier(class_weight='balanced', random_state=125)\n",
    "accuracies_decision_tree_cdc_shared = cross_val_score(decision_tree_model_cdc_shared, X_cdc_shared, np.ravel(y_cdc_shared), cv = stratified_k_fold_cdc, scoring = 'accuracy')\n",
    "accuracies_decision_tree_cdc_shared = np.mean(accuracies_decision_tree_cdc_shared)\n",
    "accuracies_decision_tree_cdc_shared"
   ]
  },
  {
   "cell_type": "markdown",
   "metadata": {},
   "source": [
    "Only 53% accuracy when using the shared features for predicting obesity on the CDC dataset using decision tree classifier"
   ]
  },
  {
   "cell_type": "markdown",
   "metadata": {},
   "source": [
    "#### **Logistic Regression Latin America Dataset (all features)**"
   ]
  },
  {
   "cell_type": "code",
   "execution_count": 14,
   "metadata": {},
   "outputs": [
    {
     "data": {
      "text/plain": [
       "np.float64(0.755593311276044)"
      ]
     },
     "execution_count": 14,
     "metadata": {},
     "output_type": "execute_result"
    }
   ],
   "source": [
    "X_latin = df_latin.drop(columns = ['BMI', 'Obese', 'Weight', 'Height'])\n",
    "y_latin = df_latin[['Obese']]\n",
    "feature_names_latin = X_latin.columns\n",
    "\n",
    "scaler = StandardScaler()\n",
    "X_latin = scaler.fit_transform(X_latin)\n",
    "\n",
    "logistic_regression_model_latin = LogisticRegression(random_state = 125)\n",
    "\n",
    "accuracies_logistic_latin = cross_val_score(logistic_regression_model_latin, X_latin, np.ravel(y_latin), cv = stratified_k_fold_cdc, scoring = 'accuracy')\n",
    "accuracies_logistic_latin = np.mean(accuracies_logistic_latin)\n",
    "accuracies_logistic_latin"
   ]
  },
  {
   "cell_type": "markdown",
   "metadata": {},
   "source": [
    "#### **Logistic Regression Latin America Dataset (shared features)**"
   ]
  },
  {
   "cell_type": "code",
   "execution_count": 15,
   "metadata": {},
   "outputs": [
    {
     "data": {
      "text/plain": [
       "np.float64(0.6650965751587231)"
      ]
     },
     "execution_count": 15,
     "metadata": {},
     "output_type": "execute_result"
    }
   ],
   "source": [
    "X_latin_shared = df_latin[['Gender', 'Age', 'eat_vegetables','SMOKE', 'alcohol_consumption']]\n",
    "y_latin_shared = df_latin[['Obese']]\n",
    "\n",
    "scaler = StandardScaler()\n",
    "X_latin_shared = scaler.fit_transform(X_latin_shared)\n",
    "\n",
    "logistic_regression_model_latin_shared = LogisticRegression(random_state=125)\n",
    "\n",
    "accuracies_logistic_latin_shared = cross_val_score(logistic_regression_model_latin_shared, X_latin_shared, np.ravel(y_latin_shared), cv = stratified_k_fold_cdc, scoring = 'accuracy')\n",
    "accuracies_logistic_latin_shared = np.mean(accuracies_logistic_latin_shared)\n",
    "accuracies_logistic_latin_shared"
   ]
  },
  {
   "cell_type": "markdown",
   "metadata": {},
   "source": [
    "Only roughly 66% accuracy when using the shared features for predicting obesity in the latin america dataset"
   ]
  },
  {
   "cell_type": "markdown",
   "metadata": {},
   "source": [
    "#### **Decision Tree Classifier Latin America Dataset (all features)**"
   ]
  },
  {
   "cell_type": "code",
   "execution_count": 16,
   "metadata": {},
   "outputs": [
    {
     "data": {
      "text/plain": [
       "np.float64(0.8768353751229545)"
      ]
     },
     "execution_count": 16,
     "metadata": {},
     "output_type": "execute_result"
    }
   ],
   "source": [
    "decision_tree_model_latin = DecisionTreeClassifier(random_state=125)\n",
    "\n",
    "accuracies_decision_tree_latin = cross_val_score(decision_tree_model_latin, X_latin, np.ravel(y_latin), cv = stratified_k_fold_cdc, scoring = 'accuracy')\n",
    "accuracies_decision_tree_latin = np.mean(accuracies_decision_tree_latin)\n",
    "accuracies_decision_tree_latin"
   ]
  },
  {
   "cell_type": "markdown",
   "metadata": {},
   "source": [
    "#### **Decision Tree Classifier Latin America Dataset (shared features)**"
   ]
  },
  {
   "cell_type": "code",
   "execution_count": 17,
   "metadata": {},
   "outputs": [
    {
     "data": {
      "text/plain": [
       "np.float64(0.8147880711794688)"
      ]
     },
     "execution_count": 17,
     "metadata": {},
     "output_type": "execute_result"
    }
   ],
   "source": [
    "decision_tree_model_latin_shared = DecisionTreeClassifier(random_state=125)\n",
    "\n",
    "accuracies_decision_tree_latin_shared = cross_val_score(decision_tree_model_latin_shared, X_latin_shared, np.ravel(y_latin_shared), cv = stratified_k_fold_cdc, scoring = 'accuracy')\n",
    "accuracies_decision_tree_latin_shared = np.mean(accuracies_decision_tree_latin_shared)\n",
    "accuracies_decision_tree_latin_shared"
   ]
  },
  {
   "cell_type": "markdown",
   "metadata": {},
   "source": [
    "Only roughly 81% accuracy when using the shared features for predicting obesity in the latin america dataset"
   ]
  },
  {
   "cell_type": "markdown",
   "metadata": {},
   "source": [
    "## **Feature Importance**\n",
    "\n",
    "Use decision tree classifier to obtain feature importance"
   ]
  },
  {
   "cell_type": "markdown",
   "metadata": {},
   "source": [
    "#### **CDC Dataset**"
   ]
  },
  {
   "cell_type": "code",
   "execution_count": 18,
   "metadata": {},
   "outputs": [
    {
     "name": "stdout",
     "output_type": "stream",
     "text": [
      "Feature: Diabetes_binary, Importance: 0.0219\n",
      "Feature: HighBP, Importance: 0.0293\n",
      "Feature: HighChol, Importance: 0.0395\n",
      "Feature: CholCheck, Importance: 0.0133\n",
      "Feature: Smoker, Importance: 0.0345\n",
      "Feature: Stroke, Importance: 0.0125\n",
      "Feature: HeartDiseaseorAttack, Importance: 0.0234\n",
      "Feature: PhysActivity, Importance: 0.0184\n",
      "Feature: Fruits, Importance: 0.0377\n",
      "Feature: Veggies, Importance: 0.0382\n",
      "Feature: HvyAlcoholConsump, Importance: 0.0152\n",
      "Feature: AnyHealthcare, Importance: 0.0155\n",
      "Feature: NoDocbcCost, Importance: 0.0221\n",
      "Feature: GenHlth, Importance: 0.0996\n",
      "Feature: MentHlth, Importance: 0.1030\n",
      "Feature: PhysHlth, Importance: 0.1141\n",
      "Feature: DiffWalk, Importance: 0.0138\n",
      "Feature: Sex, Importance: 0.0352\n",
      "Feature: Age, Importance: 0.1106\n",
      "Feature: Education, Importance: 0.0773\n",
      "Feature: Income, Importance: 0.1250\n"
     ]
    },
    {
     "data": {
      "image/png": "[encoded data removed]",
      "text/plain": [
       "<Figure size 1000x600 with 1 Axes>"
      ]
     },
     "metadata": {},
     "output_type": "display_data"
    }
   ],
   "source": [
    "import matplotlib.pyplot as plt\n",
    "\n",
    "y_cdc = np.ravel(y_cdc)\n",
    "\n",
    "feature_importances_list = []\n",
    "for train_index, test_index in stratified_k_fold_cdc.split(X_cdc, y_cdc):\n",
    "    X_train, X_test = X_cdc[train_index], X_cdc[test_index]\n",
    "    y_train, y_test = y_cdc[train_index], y_cdc[test_index]\n",
    "\n",
    "    decision_tree_model_cdc.fit(X_train, y_train)\n",
    "\n",
    "    feature_importances_list.append(decision_tree_model_cdc.feature_importances_)\n",
    "\n",
    "average_feature_importances = np.mean(feature_importances_list, axis = 0)\n",
    "\n",
    "for feature, importance in zip(feature_names_cdc, average_feature_importances):\n",
    "    print(f\"Feature: {feature}, Importance: {importance:.4f}\")\n",
    "\n",
    "feature_importances_df = pd.DataFrame({\n",
    "    'Feature': feature_names_cdc,\n",
    "    'Importance': average_feature_importances\n",
    "})\n",
    "\n",
    "feature_importances_df = feature_importances_df.sort_values(by='Importance', ascending=False)\n",
    "plt.figure(figsize=(10, 6))\n",
    "plt.barh(\n",
    "    feature_importances_df['Feature'],\n",
    "    feature_importances_df['Importance'],\n",
    "    align='center'\n",
    ")\n",
    "plt.gca().invert_yaxis()  # To display the most important feature at the top\n",
    "plt.xlabel('Importance')\n",
    "plt.ylabel('Feature in CDC Dataset')\n",
    "plt.title('Importance of Each Feature in the CDC Dataset Covering the US Population')\n",
    "plt.tight_layout()\n",
    "plt.show()\n",
    "\n"
   ]
  },
  {
   "cell_type": "markdown",
   "metadata": {},
   "source": [
    "As can be seen from the feature importance plot, the most important features for predicting obesity in the US population covered by the CDC dataset are factors like income, physical health, age, mental health, etc. "
   ]
  },
  {
   "cell_type": "markdown",
   "metadata": {},
   "source": [
    "#### **Latin America Dataset**"
   ]
  },
  {
   "cell_type": "code",
   "execution_count": 19,
   "metadata": {},
   "outputs": [
    {
     "name": "stdout",
     "output_type": "stream",
     "text": [
      "Feature: Gender, Importance: 0.0454\n",
      "Feature: Age, Importance: 0.1607\n",
      "Feature: family_history_with_overweight, Importance: 0.1746\n",
      "Feature: eat_high_caloric, Importance: 0.0479\n",
      "Feature: eat_vegetables, Importance: 0.0876\n",
      "Feature: num_meals_per_day, Importance: 0.1399\n",
      "Feature: food_between_meals, Importance: 0.0741\n",
      "Feature: SMOKE, Importance: 0.0050\n",
      "Feature: water_per_day, Importance: 0.0722\n",
      "Feature: calories_per_day, Importance: 0.0017\n",
      "Feature: physical_activity, Importance: 0.0603\n",
      "Feature: technology_usage, Importance: 0.0700\n",
      "Feature: alcohol_consumption, Importance: 0.0365\n",
      "Feature: transportation_method, Importance: 0.0240\n"
     ]
    },
    {
     "data": {
      "image/png": "[encoded data removed]",
      "text/plain": [
       "<Figure size 1000x600 with 1 Axes>"
      ]
     },
     "metadata": {},
     "output_type": "display_data"
    }
   ],
   "source": [
    "\n",
    "y_latin = np.ravel(y_latin)\n",
    "\n",
    "feature_importances_list_latin = []\n",
    "for train_index, test_index in stratified_k_fold_cdc.split(X_latin, y_latin):\n",
    "    X_train, X_test = X_latin[train_index], X_latin[test_index]\n",
    "    y_train, y_test = y_latin[train_index], y_latin[test_index]\n",
    "\n",
    "    decision_tree_model_latin.fit(X_train, y_train)\n",
    "\n",
    "    feature_importances_list_latin.append(decision_tree_model_latin.feature_importances_)\n",
    "\n",
    "average_feature_importances_latin = np.mean(feature_importances_list_latin, axis = 0)\n",
    "\n",
    "for feature, importance in zip(feature_names_latin, average_feature_importances_latin):\n",
    "    print(f\"Feature: {feature}, Importance: {importance:.4f}\")\n",
    "\n",
    "feature_importances_df_latin = pd.DataFrame({\n",
    "    'Feature': feature_names_latin,\n",
    "    'Importance': average_feature_importances_latin\n",
    "})\n",
    "\n",
    "feature_importances_df_latin = feature_importances_df_latin.sort_values(by='Importance', ascending=False)\n",
    "plt.figure(figsize=(10, 6))\n",
    "plt.barh(\n",
    "    feature_importances_df_latin['Feature'],\n",
    "    feature_importances_df_latin['Importance'],\n",
    "    align='center'\n",
    ")\n",
    "plt.gca().invert_yaxis()  # To display the most important feature at the top\n",
    "plt.xlabel('Importance')\n",
    "plt.ylabel('Feature in Latin America Dataset')\n",
    "plt.title('Importance of Each Feature in the Latin America Population Dataset')\n",
    "plt.tight_layout()\n",
    "plt.show()\n"
   ]
  },
  {
   "cell_type": "markdown",
   "metadata": {},
   "source": [
    "As can be seen from this feature importance plot, the most important features for predicting obesity in the Latin American Population (Mexico, Peru, Colombia) are having a family history with being overweight, age, number of meals per day, whether or not a person eats vegetables, etc. "
   ]
  },
  {
   "cell_type": "markdown",
   "metadata": {},
   "source": [
    "#### **Export Cleaned Dataframes to CSV**"
   ]
  },
  {
   "cell_type": "code",
   "execution_count": null,
   "metadata": {},
   "outputs": [],
   "source": [
    "# df.to_csv('cdc_dataset_cleaned.csv', index = False)\n",
    "# df_latin.to_csv('latin_america_dataset_cleaned.csv', index = False)"
   ]
  },
  {
   "cell_type": "code",
   "execution_count": null,
   "metadata": {},
   "outputs": [],
   "source": []
  }
 ],
 "metadata": {
  "kernelspec": {
   "display_name": "Python 3",
   "language": "python",
   "name": "python3"
  },
  "language_info": {
   "codemirror_mode": {
    "name": "ipython",
    "version": 3
   },
   "file_extension": ".py",
   "mimetype": "text/x-python",
   "name": "python",
   "nbconvert_exporter": "python",
   "pygments_lexer": "ipython3",
   "version": "3.11.4"
  }
 },
 "nbformat": 4,
 "nbformat_minor": 2
}
